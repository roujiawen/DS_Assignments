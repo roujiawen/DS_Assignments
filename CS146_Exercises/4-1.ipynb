{
 "cells": [
  {
   "cell_type": "code",
   "execution_count": 5,
   "metadata": {},
   "outputs": [
    {
     "name": "stdout",
     "output_type": "stream",
     "text": [
      "[2.31841222 1.14043252 1.22233046 0.06338821]\n"
     ]
    }
   ],
   "source": [
    "from scipy.optimize import minimize\n",
    "import numpy as np\n",
    "def f(x):\n",
    "    mu = x[0]\n",
    "    lam = x[1]\n",
    "    alpha = x[2]\n",
    "    beta = x[3]\n",
    "    return abs((mu-2.3)**2 + abs((beta/(alpha-1))-2.75)\n",
    "        + abs((beta/((alpha-1)*lam))-0.5**2)\n",
    "        + abs(((beta**2)/((alpha-1)**2 *(alpha-2)))-1)\n",
    "           )\n",
    "\n",
    "x_initial = np.array([0,0.054,1.12,0.4])\n",
    "result = minimize(f, x_initial)\n",
    "print(result.x)"
   ]
  },
  {
   "cell_type": "code",
   "execution_count": null,
   "metadata": {},
   "outputs": [],
   "source": [
    "#alpha and beta has to be positive"
   ]
  }
 ],
 "metadata": {
  "kernelspec": {
   "display_name": "Python 3",
   "language": "python",
   "name": "python3"
  },
  "language_info": {
   "codemirror_mode": {
    "name": "ipython",
    "version": 3
   },
   "file_extension": ".py",
   "mimetype": "text/x-python",
   "name": "python",
   "nbconvert_exporter": "python",
   "pygments_lexer": "ipython3",
   "version": "3.6.5"
  }
 },
 "nbformat": 4,
 "nbformat_minor": 2
}
