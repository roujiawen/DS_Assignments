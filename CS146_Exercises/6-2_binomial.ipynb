{
 "cells": [
  {
   "cell_type": "markdown",
   "metadata": {},
   "source": [
    "# 1\n",
    "Using the normal approximation to the binomial distribution, confirm that the 95$\\%$\n",
    "confidence interval for the sampling error for sample size 1000 and percentage outcome\n",
    "10$\\%$ is 2$\\%$ (rounded to the nearest integer). Motivate why it is appropriate to use the\n",
    "binomial distribution here."
   ]
  },
  {
   "cell_type": "code",
   "execution_count": 9,
   "metadata": {},
   "outputs": [
    {
     "name": "stdout",
     "output_type": "stream",
     "text": [
      "2.0 %\n"
     ]
    }
   ],
   "source": [
    "from scipy import stats\n",
    "import numpy as np\n",
    "\n",
    "# parameters\n",
    "n=1000\n",
    "p=0.1\n",
    "\n",
    "# normal approximation\n",
    "mu = n * p\n",
    "sigma2 = n * p * (1-p)\n",
    "norm = stats.norm(loc=mu, scale=np.sqrt(sigma2))\n",
    "\n",
    "print(np.round((norm.ppf(0.975)/n-p)*100), '%')"
   ]
  },
  {
   "cell_type": "markdown",
   "metadata": {},
   "source": [
    "It's appropriate to use binomial distribution because votes are discrete independent events that we assume, with some fixed probabilities, lead to each outcome."
   ]
  },
  {
   "cell_type": "markdown",
   "metadata": {},
   "source": [
    "# 2\n",
    "\n",
    "Write a Python function for calculating the 95$\\%$ confidence interval given any sample\n",
    "size and any percentage outcome. Use your function to calculate all the values in the\n",
    "Total Survey Error table rounded to the nearest integer. For which entries does your\n",
    "margin of error differ from the value in the table?"
   ]
  },
  {
   "cell_type": "code",
   "execution_count": 13,
   "metadata": {},
   "outputs": [
    {
     "data": {
      "text/plain": [
       "array([[ 2.,  2.,  3.,  4.,  6.],\n",
       "       [ 2.,  3.,  4.,  5.,  8.],\n",
       "       [ 3.,  3.,  4.,  6.,  9.],\n",
       "       [ 3.,  4.,  4.,  6., 10.],\n",
       "       [ 3.,  4.,  4.,  6., 10.],\n",
       "       [ 3.,  4.,  4.,  6., 10.],\n",
       "       [ 3.,  3.,  4.,  6.,  9.],\n",
       "       [ 2.,  3.,  4.,  5.,  8.],\n",
       "       [ 2.,  2.,  3.,  4.,  6.]])"
      ]
     },
     "execution_count": 13,
     "metadata": {},
     "output_type": "execute_result"
    }
   ],
   "source": [
    "def calc_percentage(n, p):\n",
    "    mu = n * p\n",
    "    sigma2 = n * p * (1-p)\n",
    "    norm = stats.norm(loc=mu, scale=np.sqrt(sigma2))\n",
    "    return np.round((norm.ppf(0.975)/n-p)*100)\n",
    "\n",
    "table = np.empty((9, 5))\n",
    "for i, p in enumerate(np.linspace(0.1, 0.9, 9)):\n",
    "    for j, n in enumerate([1000, 750, 500, 250, 100]):\n",
    "        table[i,j] = calc_percentage(n, p)\n",
    "table"
   ]
  },
  {
   "cell_type": "code",
   "execution_count": null,
   "metadata": {},
   "outputs": [],
   "source": []
  }
 ],
 "metadata": {
  "kernelspec": {
   "display_name": "Python 3",
   "language": "python",
   "name": "python3"
  },
  "language_info": {
   "codemirror_mode": {
    "name": "ipython",
    "version": 3
   },
   "file_extension": ".py",
   "mimetype": "text/x-python",
   "name": "python",
   "nbconvert_exporter": "python",
   "pygments_lexer": "ipython3",
   "version": "3.6.5"
  }
 },
 "nbformat": 4,
 "nbformat_minor": 2
}
