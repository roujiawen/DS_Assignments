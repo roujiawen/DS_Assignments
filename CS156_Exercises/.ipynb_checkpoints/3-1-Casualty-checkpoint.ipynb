{
 "cells": [
  {
   "cell_type": "code",
   "execution_count": 18,
   "metadata": {},
   "outputs": [
    {
     "data": {
      "text/html": [
       "<div>\n",
       "<style scoped>\n",
       "    .dataframe tbody tr th:only-of-type {\n",
       "        vertical-align: middle;\n",
       "    }\n",
       "\n",
       "    .dataframe tbody tr th {\n",
       "        vertical-align: top;\n",
       "    }\n",
       "\n",
       "    .dataframe thead th {\n",
       "        text-align: right;\n",
       "    }\n",
       "</style>\n",
       "<table border=\"1\" class=\"dataframe\">\n",
       "  <thead>\n",
       "    <tr style=\"text-align: right;\">\n",
       "      <th></th>\n",
       "      <th>casualty_class</th>\n",
       "      <th>gender</th>\n",
       "      <th>age</th>\n",
       "      <th>severe</th>\n",
       "      <th>pedestrian_location</th>\n",
       "      <th>pedestrian_movement</th>\n",
       "      <th>travel</th>\n",
       "      <th>year</th>\n",
       "    </tr>\n",
       "  </thead>\n",
       "  <tbody>\n",
       "    <tr>\n",
       "      <th>0</th>\n",
       "      <td>passenger</td>\n",
       "      <td>female</td>\n",
       "      <td>33.0</td>\n",
       "      <td>False</td>\n",
       "      <td>NaN</td>\n",
       "      <td>NaN</td>\n",
       "      <td>motorbike</td>\n",
       "      <td>2007.0</td>\n",
       "    </tr>\n",
       "    <tr>\n",
       "      <th>1</th>\n",
       "      <td>passenger</td>\n",
       "      <td>female</td>\n",
       "      <td>20.0</td>\n",
       "      <td>False</td>\n",
       "      <td>NaN</td>\n",
       "      <td>NaN</td>\n",
       "      <td>car</td>\n",
       "      <td>2005.0</td>\n",
       "    </tr>\n",
       "    <tr>\n",
       "      <th>2</th>\n",
       "      <td>passenger</td>\n",
       "      <td>male</td>\n",
       "      <td>52.0</td>\n",
       "      <td>False</td>\n",
       "      <td>NaN</td>\n",
       "      <td>NaN</td>\n",
       "      <td>car</td>\n",
       "      <td>2006.0</td>\n",
       "    </tr>\n",
       "    <tr>\n",
       "      <th>3</th>\n",
       "      <td>passenger</td>\n",
       "      <td>female</td>\n",
       "      <td>17.0</td>\n",
       "      <td>False</td>\n",
       "      <td>NaN</td>\n",
       "      <td>NaN</td>\n",
       "      <td>pedestrian</td>\n",
       "      <td>2012.0</td>\n",
       "    </tr>\n",
       "    <tr>\n",
       "      <th>4</th>\n",
       "      <td>passenger</td>\n",
       "      <td>female</td>\n",
       "      <td>20.0</td>\n",
       "      <td>False</td>\n",
       "      <td>NaN</td>\n",
       "      <td>NaN</td>\n",
       "      <td>motorbike</td>\n",
       "      <td>2010.0</td>\n",
       "    </tr>\n",
       "  </tbody>\n",
       "</table>\n",
       "</div>"
      ],
      "text/plain": [
       "  casualty_class  gender   age  severe pedestrian_location  \\\n",
       "0      passenger  female  33.0   False                 NaN   \n",
       "1      passenger  female  20.0   False                 NaN   \n",
       "2      passenger    male  52.0   False                 NaN   \n",
       "3      passenger  female  17.0   False                 NaN   \n",
       "4      passenger  female  20.0   False                 NaN   \n",
       "\n",
       "  pedestrian_movement      travel    year  \n",
       "0                 NaN   motorbike  2007.0  \n",
       "1                 NaN         car  2005.0  \n",
       "2                 NaN         car  2006.0  \n",
       "3                 NaN  pedestrian  2012.0  \n",
       "4                 NaN   motorbike  2010.0  "
      ]
     },
     "execution_count": 18,
     "metadata": {},
     "output_type": "execute_result"
    }
   ],
   "source": [
    "import pandas as pd\n",
    "df = pd.read_csv(\"casualty_train.csv\")\n",
    "df = df[df[\"age\"]!=\"Unknown\"]\n",
    "df[\"age\"] = df[\"age\"].astype(float)\n",
    "df[\"year\"] = df[\"year\"].astype(float)\n",
    "df.head()"
   ]
  },
  {
   "cell_type": "code",
   "execution_count": 19,
   "metadata": {},
   "outputs": [
    {
     "data": {
      "text/plain": [
       "array(['age', 'severe', 'year', 'casualty_class_driver',\n",
       "       'casualty_class_passenger', 'casualty_class_pedestrian',\n",
       "       'gender_female', 'gender_male',\n",
       "       'pedestrian_location_Close to Crossing',\n",
       "       'pedestrian_location_Footpath', 'pedestrian_location_In road',\n",
       "       'pedestrian_location_Not on Crossing',\n",
       "       'pedestrian_location_Pedestrian Crossing',\n",
       "       'pedestrian_location_Unknown', 'pedestrian_location_Zig-Zag',\n",
       "       'pedestrian_movement_Back To Traffic',\n",
       "       'pedestrian_movement_Drivers N/Side',\n",
       "       'pedestrian_movement_Drivers N/Side Msk',\n",
       "       'pedestrian_movement_Drivers O/Side',\n",
       "       'pedestrian_movement_Drivers O/Side Msk',\n",
       "       'pedestrian_movement_Facing Traffic',\n",
       "       'pedestrian_movement_In Rd Not Crossing',\n",
       "       'pedestrian_movement_In Rd Not Crossing Msk',\n",
       "       'pedestrian_movement_Unknown Or Other', 'travel_bicycle',\n",
       "       'travel_bus', 'travel_car', 'travel_motorbike', 'travel_other',\n",
       "       'travel_pedestrian', 'travel_taxi'], dtype=object)"
      ]
     },
     "execution_count": 19,
     "metadata": {},
     "output_type": "execute_result"
    }
   ],
   "source": [
    "train_data = pd.get_dummies(df)\n",
    "train_data.columns.values"
   ]
  },
  {
   "cell_type": "code",
   "execution_count": 20,
   "metadata": {},
   "outputs": [],
   "source": [
    "is0 = train_data[train_data[\"severe\"]==False][:20000]\n",
    "is1 = train_data[train_data[\"severe\"]==True][:20000]\n",
    "train_data = pd.concat([is0,is1])\n",
    "train_data = train_data.sample(frac=1).reset_index(drop=True)\n",
    "train_X = train_data[['age', 'year', 'casualty_class_driver',\n",
    "       'casualty_class_passenger', 'casualty_class_pedestrian',\n",
    "       'gender_female', 'gender_male',\n",
    "       'pedestrian_location_Close to Crossing',\n",
    "       'pedestrian_location_Footpath', 'pedestrian_location_In road',\n",
    "       'pedestrian_location_Not on Crossing',\n",
    "       'pedestrian_location_Pedestrian Crossing',\n",
    "       'pedestrian_location_Unknown', 'pedestrian_location_Zig-Zag',\n",
    "       'pedestrian_movement_Back To Traffic',\n",
    "       'pedestrian_movement_Drivers N/Side',\n",
    "       'pedestrian_movement_Drivers N/Side Msk',\n",
    "       'pedestrian_movement_Drivers O/Side',\n",
    "       'pedestrian_movement_Drivers O/Side Msk',\n",
    "       'pedestrian_movement_Facing Traffic',\n",
    "       'pedestrian_movement_In Rd Not Crossing',\n",
    "       'pedestrian_movement_In Rd Not Crossing Msk',\n",
    "       'pedestrian_movement_Unknown Or Other', 'travel_bicycle',\n",
    "       'travel_bus', 'travel_car', 'travel_motorbike', 'travel_other',\n",
    "       'travel_pedestrian', 'travel_taxi']]\n",
    "train_Y = (train_data[\"severe\"] == True).astype(int)\n"
   ]
  },
  {
   "cell_type": "code",
   "execution_count": 21,
   "metadata": {},
   "outputs": [],
   "source": [
    "cutoff = int(0.8*len(train_Y))\n",
    "train_X, test_X = train_X[:cutoff], train_X[cutoff:]\n",
    "train_Y, test_Y = train_Y[:cutoff], train_Y[cutoff:]"
   ]
  },
  {
   "cell_type": "code",
   "execution_count": 22,
   "metadata": {},
   "outputs": [
    {
     "name": "stdout",
     "output_type": "stream",
     "text": [
      "32000 8000\n"
     ]
    }
   ],
   "source": [
    "print len(train_X), len(test_X)"
   ]
  },
  {
   "cell_type": "code",
   "execution_count": 23,
   "metadata": {},
   "outputs": [
    {
     "name": "stdout",
     "output_type": "stream",
     "text": [
      "Coefficient = [[ 0.00777894 -0.00232531  0.75714104  0.55495006  0.84297139  1.1814394\n",
      "   0.97362308  0.10945117  0.05079253  0.07832789 -0.01887128  0.07183421\n",
      "   0.20417574  0.34726113  0.01174113  0.17777365  0.19867176  0.29662331\n",
      "   0.31213349  0.61791372 -0.18625053 -0.64835512  0.06271998  0.84297139\n",
      "  -0.00937614 -0.16981222  0.87672214 -0.03622711  0.73999978 -0.08921535]]\n",
      "RMSE = 0.610737259384\n",
      "R^2 = -0.49252471572\n",
      "Acc = 0.627\n"
     ]
    }
   ],
   "source": [
    "from sklearn.linear_model import LogisticRegression\n",
    "from sklearn.metrics import mean_squared_error, r2_score\n",
    "import numpy as np\n",
    "\n",
    "logreg = LogisticRegression()\n",
    "logreg.fit(train_X, train_Y)\n",
    "predicted = logreg.predict(test_X).astype(int)\n",
    "print \"Coefficient =\", logreg.coef_\n",
    "print \"MSE =\", np.sqrt(mean_squared_error(test_Y, predicted))\n",
    "print \"R^2 =\", r2_score(test_Y, predicted)\n",
    "print \"Acc =\", np.count_nonzero(test_Y==predicted)/float(len(predicted))"
   ]
  },
  {
   "cell_type": "code",
   "execution_count": 27,
   "metadata": {},
   "outputs": [
    {
     "data": {
      "text/plain": [
       "array([-0.78746854,  0.48172072, -0.84970008, ..., -0.67722026,\n",
       "       -0.29644709,  0.80619699])"
      ]
     },
     "execution_count": 27,
     "metadata": {},
     "output_type": "execute_result"
    }
   ],
   "source": [
    "score_Y"
   ]
  },
  {
   "cell_type": "code",
   "execution_count": 30,
   "metadata": {},
   "outputs": [
    {
     "name": "stdout",
     "output_type": "stream",
     "text": [
      "Average precision-recall score: 0.64\n"
     ]
    }
   ],
   "source": [
    "from sklearn.metrics import average_precision_score\n",
    "score_Y = logreg.decision_function(test_X)\n",
    "average_precision = average_precision_score(test_Y, score_Y)\n",
    "\n",
    "print('Average precision-recall score: {0:0.2f}'.format(\n",
    "      average_precision))"
   ]
  },
  {
   "cell_type": "code",
   "execution_count": 31,
   "metadata": {},
   "outputs": [
    {
     "data": {
      "text/plain": [
       "Text(0.5,1,u'2-class Precision-Recall curve: AP=0.64')"
      ]
     },
     "execution_count": 31,
     "metadata": {},
     "output_type": "execute_result"
    },
    {
     "data": {
      "image/png": "[encoded data removed]",
      "text/plain": [
       "<matplotlib.figure.Figure at 0x10cc38110>"
      ]
     },
     "metadata": {},
     "output_type": "display_data"
    }
   ],
   "source": [
    "from sklearn.metrics import precision_recall_curve\n",
    "import matplotlib.pyplot as plt\n",
    "\n",
    "precision, recall, _ = precision_recall_curve(test_Y, score_Y)\n",
    "\n",
    "plt.step(recall, precision, color='b', alpha=0.2,\n",
    "         where='post')\n",
    "plt.fill_between(recall, precision, step='post', alpha=0.2,\n",
    "                 color='b')\n",
    "\n",
    "plt.xlabel('Recall')\n",
    "plt.ylabel('Precision')\n",
    "plt.ylim([0.0, 1.05])\n",
    "plt.xlim([0.0, 1.0])\n",
    "plt.title('2-class Precision-Recall curve: AP={0:0.2f}'.format(\n",
    "          average_precision))"
   ]
  },
  {
   "cell_type": "code",
   "execution_count": 33,
   "metadata": {},
   "outputs": [
    {
     "data": {
      "image/png": "[encoded data removed]",
      "text/plain": [
       "<matplotlib.figure.Figure at 0x108cb8f90>"
      ]
     },
     "metadata": {},
     "output_type": "display_data"
    }
   ],
   "source": [
    "from sklearn.metrics import roc_curve\n",
    "\n",
    "fpr, tpr, thresholds = roc_curve(test_Y, score_Y)\n",
    "plt.plot(fpr, tpr, color='darkorange',label='ROC curve')\n",
    "plt.plot([0, 1], [0, 1], color='navy', linestyle='--')\n",
    "plt.xlim([0.0, 1.0])\n",
    "plt.ylim([0.0, 1.05])\n",
    "plt.xlabel('False Positive Rate')\n",
    "plt.ylabel('True Positive Rate')\n",
    "plt.legend(loc=\"lower right\")\n",
    "plt.show()"
   ]
  },
  {
   "cell_type": "code",
   "execution_count": null,
   "metadata": {},
   "outputs": [],
   "source": []
  }
 ],
 "metadata": {
  "kernelspec": {
   "display_name": "Python 2",
   "language": "python",
   "name": "python2"
  },
  "language_info": {
   "codemirror_mode": {
    "name": "ipython",
    "version": 2
   },
   "file_extension": ".py",
   "mimetype": "text/x-python",
   "name": "python",
   "nbconvert_exporter": "python",
   "pygments_lexer": "ipython2",
   "version": "2.7.15"
  }
 },
 "nbformat": 4,
 "nbformat_minor": 2
}
