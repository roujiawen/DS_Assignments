{
 "cells": [
  {
   "cell_type": "code",
   "execution_count": 9,
   "metadata": {},
   "outputs": [],
   "source": [
    "import numpy as np\n",
    "\n",
    "coding = {\"A\":0, \"o\":1, \"e\":2, \"t\":3, \"p\":4, \"g\":5, \"k\":6}\n",
    "\n",
    "X = []\n",
    "y = []\n",
    "for c, i in enumerate([\"A\",\"B\",\"C\"]):\n",
    "    for j in range(30):\n",
    "        t = np.loadtxt(\"symbol/language-training-lang{}-{}\".format(i,j),dtype=str)\n",
    "        coded = [coding[_] for _ in str(t)]\n",
    "        X.append(coded)\n",
    "        y.append(c)\n",
    "X = np.array(X)\n",
    "y = np.array(y)"
   ]
  },
  {
   "cell_type": "code",
   "execution_count": 14,
   "metadata": {},
   "outputs": [
    {
     "data": {
      "text/plain": [
       "MultinomialHMM(algorithm='viterbi', init_params='ste', n_components=1,\n",
       "        n_iter=10, params='ste',\n",
       "        random_state=<mtrand.RandomState object at 0x104b0c690>,\n",
       "        startprob_prior=1.0, tol=0.01, transmat_prior=1.0, verbose=False)"
      ]
     },
     "execution_count": 14,
     "metadata": {},
     "output_type": "execute_result"
    }
   ],
   "source": [
    "from hmmlearn.hmm import MultinomialHMM\n",
    "model = MultinomialHMM()\n",
    "model.fit(X[0].reshape(1,len(X[0])))"
   ]
  },
  {
   "cell_type": "code",
   "execution_count": null,
   "metadata": {},
   "outputs": [],
   "source": []
  }
 ],
 "metadata": {
  "kernelspec": {
   "display_name": "Python 2",
   "language": "python",
   "name": "python2"
  },
  "language_info": {
   "codemirror_mode": {
    "name": "ipython",
    "version": 2
   },
   "file_extension": ".py",
   "mimetype": "text/x-python",
   "name": "python",
   "nbconvert_exporter": "python",
   "pygments_lexer": "ipython2",
   "version": "2.7.14"
  }
 },
 "nbformat": 4,
 "nbformat_minor": 2
}
