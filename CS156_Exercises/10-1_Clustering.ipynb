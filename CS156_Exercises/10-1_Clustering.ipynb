{
 "cells": [
  {
   "cell_type": "code",
   "execution_count": 68,
   "metadata": {},
   "outputs": [],
   "source": [
    "import pandas as pd\n",
    "\n",
    "df = pd.read_csv(\"transactions.csv\")\n",
    "df[\"Date\"] = df[\"Date\"].str.slice(2)\n",
    "n_tran = []\n",
    "for i, group in df.groupby(\"Date\"):\n",
    "    n_tran.append(len(group))\n",
    "n_tran = np.array(n_tran)"
   ]
  },
  {
   "cell_type": "code",
   "execution_count": 72,
   "metadata": {},
   "outputs": [
    {
     "data": {
      "image/png": "[encoded data removed]",
      "text/plain": [
       "<matplotlib.figure.Figure at 0x10bbdcf90>"
      ]
     },
     "metadata": {},
     "output_type": "display_data"
    }
   ],
   "source": [
    "import numpy as np\n",
    "import matplotlib.pyplot as plt\n",
    "from scipy.stats import norm\n",
    "from sklearn.neighbors import KernelDensity\n",
    "\n",
    "#N = 100\n",
    "#np.random.seed(1)\n",
    "X = n_tran\n",
    "X = X.reshape(len(X),1)\n",
    "\n",
    "X_plot = np.linspace(np.min(X), np.max(X), 1000)[:, np.newaxis]\n",
    "\n",
    "#true_dens = (0.3 * norm(0, 1).pdf(X_plot[:, 0])\n",
    "#             + 0.7 * norm(5, 1).pdf(X_plot[:, 0]))\n",
    "\n",
    "#true_dens =\n",
    "fig, ax = plt.subplots()\n",
    "#ax.fill(X_plot[:, 0], true_dens, fc='black', alpha=0.2,\n",
    "#        label='input distribution')\n",
    "\n",
    "for kernel in ['gaussian', 'tophat', 'epanechnikov']:\n",
    "    kde = KernelDensity(kernel=kernel, bandwidth=5).fit(X)\n",
    "    log_dens = kde.score_samples(X_plot)\n",
    "    ax.plot(X_plot[:, 0], np.exp(log_dens), '-',\n",
    "            label=\"kernel = '{0}'\".format(kernel))\n",
    "\n",
    "#ax.text(6, 0.38, \"N={0} points\".format(N))\n",
    "\n",
    "ax.legend(loc='upper left')\n",
    "ax.plot(X[:, 0], -0.005 - 0.01 * np.random.random(X.shape[0]), '+k')\n",
    "\n",
    "#ax.set_xlim(-4, 9)\n",
    "#ax.set_ylim(-0.02, 0.4)\n",
    "plt.show()"
   ]
  },
  {
   "cell_type": "code",
   "execution_count": 13,
   "metadata": {},
   "outputs": [
    {
     "name": "stdout",
     "output_type": "stream",
     "text": [
      "[0 1 0 2 3 3 1 3 1 0 1 2 2 2 0 3 2 0 1 0 1 1 1 0 1 1 0 1 0 3 0 1 1 0 0 0 0\n",
      " 3 1 0 0 1 1 3 0 2 1 0 2 0 3 3 2 0 1 2 2 1 1 3 0 1 0 0 0 0 0 0 0 1 2 0 0 3\n",
      " 2 0 2 2 0 1 1 0 3 2 2 1 3 3 0 1 0 2 0 3 1 0 0 0 0 3 0 2 1 0 1 2 1 2 1 0 0\n",
      " 0 1 1 3 2 1 1 1 2 1 1 3 0 1 0 1 1 2 0 0 0 1 2 0 0 0 0 0 0 3 2 3 3 3 1 3 0\n",
      " 1 0 0 1 1 3 1 0 1 1 1 1 0 0 3 3 3 0 0 0 0 1 0 0 0 1 0 3 1 2 0 0 0 1 0 1 3\n",
      " 2 0 2 3 0 2 3 2 0 0 1 3 0 0 0 2 1 0 0 1 0 0 3 3 2 2 1 1 0 1 0 0 1 2 3 3 2\n",
      " 1 0 0 0 0 0 1 0 1 0 0 0 1 1 1 0 0 1 1 1 1 2 1 3 0 1 0 3 3 1 2 2 0 2 3 1 1\n",
      " 0 2 1 1 3 0 2 2 1 0 0 0 0 2 0 2 0 2 3 0 2 3 3 2 2 1 2 2 1 0 0 0 3 0 0 1 1\n",
      " 0 0 0 1 1 0 0 3 2 1 1 0 1 1 2 0 0 3 1 0 0 0 1 2 3 2 2 1 1 3 1 0 0 3 3 3 1\n",
      " 0 3 1 0 0 0 2 1 0 0 0 1 1 3 0 0 0 1 0 0 2 1 1 0 3 1 2 0 2 3 1 0 0 0 2 0 1\n",
      " 0 2 1 3 0 0 3 1 1 0 0 2 0 0 2 0 0 0 0 0 1 1 2 1 3 1 1 1 0 2 3 0 0 1 1 2 3\n",
      " 3 0 1 0 0 1 3 2 0 0 3 2 3 3 1 3 1 0 2 0 0 1 0 0 0 1 0 0 0 0 2 1 0 0 1 0 1\n",
      " 0 2 0 0 2 0 2 0 2 0 0 0 1 3 1 0 1 1 2 2 1 0 3 0 1 2 3 0 3 0 1 2 2 0 1 1 1\n",
      " 0 0 1 1 1 3 2 3 3 2 3 1 1 0 1 3 0 1 3 2 1 1 0 0 2 0 3 0 0 2 1 1 1 1 0 3 1\n",
      " 0 1 1 1 2 1 0 0 2 0 0 1 3 0 0 0 2 0 3 0 2 3 2 0 1 0 3 0 1 0 0 3 3 1 0 3 0\n",
      " 0 0 0 2 0 1 1 0 0 1 0 0 1 3 1 1 0 0 0 0 2 1 1 1 1 3 3 2 1 0 2 3 1 3 2 0 0\n",
      " 1 0 1 3 2 2 0 1 0 3 1 3 2 1 0 0 2 1 0 2 1 3 3 2 1 3 1 0 0 1 0 1 0 0 0 2 1\n",
      " 1 2 2 0 1 2 0 0 1 0 3 1 2 1 0 2 0 1 3 3 0 1 3 2 1 1 2 0 3 0 1 3 1 0 1 0 1\n",
      " 0 0 1 2 3 1 3 0 1 1 1 0 1 3 1 1 0 0 3 0 0 3 0 2 1 1 1 1 0 0 0 1 0 0 0 2 0\n",
      " 0 0 0 0 2 2 0 0 1 0 1 1 0 2 0 2 0 1 1 0 2 0 0 1 2 1 0 0 2 1 3 1 0 0 0 3 0\n",
      " 0 0 0 0 0 0 2 3 1 2 2 3 0 0 0 0 1 0 0 0 2 3 2 1 1 0 2 0 3 1 0 1 0 0 3 2 2\n",
      " 0 0 2 3 1 1 0 0 3 1 0 0 1 1 0 2 0 1 1 0 3 0 2 2 1 0 2 1 0 0 0 2 1 1 3 0 0\n",
      " 0 1 0 0 0 1 1 0 3 1 2 3 0 1 3 1 0 3 1 3 1 0 0 3 0 0 0 1 1 1 3 0 0 1 3 0 1\n",
      " 0 1 0 0 3 0 1 0 2 3 0 0 1 0 3 0 1 0 1 0 1 1 3 3 3 3 1 3 0 0 0 1 3 2 1 2 1\n",
      " 0 0 2 2 0 0 0 1 1 0 1 0 3 1 3 2 2 1 1 0 1 1 0 1 1 1 0 1 0 1 0 0 0 2 0 0 0\n",
      " 0 3 1 0 1 0 2 0 0 1 1 1 1 2 0 0 1 3 0 2 1 3 0 0 1 1 1 1 3 0 0 1 2 3 1 0 0\n",
      " 2 0 1 3 2 1 0 0 0 0 0 3 2 0 0 1 0 0 0 0 1 1 1 0 2 1 0 1 1 0 0 3 0 0 2 0 1\n",
      " 1]\n"
     ]
    }
   ],
   "source": [
    "import numpy as np\n",
    "\n",
    "p_cluster = [0.4, 0.3, 0.15, 0.15]\n",
    "\n",
    "n_questions = 20\n",
    "n_people = 1000\n",
    "n_clusters = len(p_cluster)\n",
    "\n",
    "biases = np.random.beta(0.75, 0.75, size=(n_questions, n_clusters))\n",
    "people = np.random.choice(range(n_clusters), size=n_people, p=p_cluster)\n",
    "\n",
    "answers = np.zeros((n_people, n_questions), dtype=bool)\n",
    "\n",
    "for a in range(n_people):\n",
    "    cluster = people[a]\n",
    "    answers[a, :] = np.random.rand(n_questions) < biases[:, cluster]\n",
    "\n",
    "print(people)\n",
    "\n",
    "np.savetxt(\"questionnaire.csv\", answers, delimiter=\",\", fmt=\"%d\")\n",
    "np.savetxt(\"questionnaire_answers.csv\", people, delimiter=\",\", fmt=\"%d\")\n",
    "np.savetxt(\"questionnaire_biases.csv\", biases, delimiter=\",\", fmt=\"%.3f\")\n"
   ]
  },
  {
   "cell_type": "code",
   "execution_count": 32,
   "metadata": {},
   "outputs": [
    {
     "name": "stdout",
     "output_type": "stream",
     "text": [
      "(1000, 4)\n",
      "(1000, 4)\n",
      "(1000, 4)\n",
      "(1000, 4)\n",
      "(1000, 4)\n",
      "(1000, 4)\n",
      "(1000, 4)\n",
      "(1000, 4)\n",
      "(1000, 4)\n",
      "(1000, 4)\n",
      "[[ 0.5  0.5  0.5  0.5]\n",
      " [ 0.5  0.5  0.5  0.5]\n",
      " [ 0.5  0.5  0.5  0.5]\n",
      " [ 0.5  0.5  0.5  0.5]\n",
      " [ 0.5  0.5  0.5  0.5]\n",
      " [ 0.5  0.5  0.5  0.5]\n",
      " [ 0.5  0.5  0.5  0.5]\n",
      " [ 0.5  0.5  0.5  0.5]\n",
      " [ 0.5  0.5  0.5  0.5]\n",
      " [ 0.5  0.5  0.5  0.5]\n",
      " [ 0.5  0.5  0.5  0.5]\n",
      " [ 0.5  0.5  0.5  0.5]\n",
      " [ 0.5  0.5  0.5  0.5]\n",
      " [ 0.5  0.5  0.5  0.5]\n",
      " [ 0.5  0.5  0.5  0.5]\n",
      " [ 0.5  0.5  0.5  0.5]\n",
      " [ 0.5  0.5  0.5  0.5]\n",
      " [ 0.5  0.5  0.5  0.5]\n",
      " [ 0.5  0.5  0.5  0.5]\n",
      " [ 0.5  0.5  0.5  0.5]]\n",
      "[[ 0.25  0.25  0.25  0.25]\n",
      " [ 0.25  0.25  0.25  0.25]\n",
      " [ 0.25  0.25  0.25  0.25]\n",
      " ..., \n",
      " [ 0.25  0.25  0.25  0.25]\n",
      " [ 0.25  0.25  0.25  0.25]\n",
      " [ 0.25  0.25  0.25  0.25]]\n"
     ]
    }
   ],
   "source": [
    "\"\"\"\n",
    "Estimate the probability of a person belonging to a particular cluster.\n",
    "Estimates the maximum likelihood parameters for the biases. This is the\n",
    "probability that a person from a particular cluster will answer true to a particular question.\n",
    "\"\"\"\n",
    "import numpy as np\n",
    "\n",
    "answers = np.loadtxt(\"questionnaire.csv\", delimiter=\",\")\n",
    "n_people, n_questions = answers.shape\n",
    "n_clusters = 4\n",
    "\n",
    "p_clusters = np.asarray([0.25, 0.25, 0.25, 0.25])\n",
    "biases = np.random.beta(0.75, 0.75, size=(n_questions, n_clusters))\n",
    "\n",
    "\n",
    "\n",
    "def expectation(answers, biases, p_clusters):\n",
    "    # In this function we create our expectations.\n",
    "    # Likelihood of belonging to each cluster\n",
    "    people = np.empty((n_people, n_clusters))\n",
    "    for j in range(n_people):\n",
    "        for i in range(n_clusters):\n",
    "            temp = np.array([1 if x == True else -1 for x in answers[j,:]])\n",
    "            prob = temp*(biases[:,i].ravel()) % 1\n",
    "            people[j,i] = np.prod(prob)\n",
    "\n",
    "    # normalize the distributions\n",
    "    people = people / people.sum(axis=1, keepdims=1)\n",
    "    return people\n",
    "\n",
    "\n",
    "def maximization(answers, people):\n",
    "    # Treating all the data as visible, now infer the parameters for the model.\n",
    "\n",
    "    # This is probably not the correct answer!\n",
    "    biases = np.zeros((n_questions, n_clusters)) + 0.5\n",
    "    return biases\n",
    "\n",
    "\n",
    "for step in range(10):\n",
    "    people = expectation(answers, biases, p_clusters)\n",
    "    biases = maximization(answers, people)\n",
    "\n",
    "print(biases)\n",
    "print(people)"
   ]
  },
  {
   "cell_type": "code",
   "execution_count": 19,
   "metadata": {},
   "outputs": [
    {
     "data": {
      "text/plain": [
       "array([[False, False, False, ...,  True,  True,  True],\n",
       "       [ True,  True, False, ...,  True, False,  True],\n",
       "       [False, False,  True, ...,  True,  True, False],\n",
       "       ..., \n",
       "       [False, False,  True, ..., False,  True,  True],\n",
       "       [ True,  True,  True, ..., False, False,  True],\n",
       "       [ True, False, False, ..., False, False, False]], dtype=bool)"
      ]
     },
     "execution_count": 19,
     "metadata": {},
     "output_type": "execute_result"
    }
   ],
   "source": [
    "answers"
   ]
  },
  {
   "cell_type": "code",
   "execution_count": 23,
   "metadata": {},
   "outputs": [
    {
     "data": {
      "text/plain": [
       "array([[ 3.97186497,  1.61545005,  3.08016803, -3.23781062],\n",
       "       [-0.70091403,  3.05922665,  3.12042129, -0.77619139],\n",
       "       [ 6.2241164 ,  1.73526905,  1.70825291, -1.08538291],\n",
       "       ..., \n",
       "       [ 1.91730924, -0.05469645, -0.5948001 ,  0.85450568],\n",
       "       [-0.47994643,  3.17450978,  0.23686663, -1.9930672 ],\n",
       "       [-2.47195191, -0.82197493, -1.98865345, -1.43523111]])"
      ]
     },
     "execution_count": 23,
     "metadata": {},
     "output_type": "execute_result"
    }
   ],
   "source": [
    "temp = answers.copy().astype(np.int_)\n",
    "temp[temp==0] = -1\n",
    "np.dot(temp, biases)"
   ]
  },
  {
   "cell_type": "code",
   "execution_count": 24,
   "metadata": {},
   "outputs": [
    {
     "data": {
      "text/plain": [
       "array([[  1.02292890e-01,   8.93396544e-01,   9.05998949e-01,\n",
       "          9.24279001e-01],\n",
       "       [  1.12140057e-02,   7.59766239e-01,   4.88456066e-01,\n",
       "          4.79515853e-01],\n",
       "       [  4.15114022e-01,   5.00062744e-01,   6.98683186e-02,\n",
       "          5.34179266e-01],\n",
       "       [  6.15327772e-01,   4.63758595e-01,   3.22818164e-02,\n",
       "          5.65719682e-01],\n",
       "       [  7.18506867e-01,   6.58974467e-02,   7.48240053e-01,\n",
       "          9.02057971e-01],\n",
       "       [  4.55865539e-01,   6.92832139e-02,   7.26133164e-04,\n",
       "          6.08334534e-02],\n",
       "       [  7.28173293e-01,   8.20387141e-01,   2.98853361e-01,\n",
       "          1.61982861e-01],\n",
       "       [  7.32457763e-01,   6.32445111e-01,   9.62462471e-02,\n",
       "          8.69555785e-01],\n",
       "       [  1.84706346e-01,   4.96577345e-01,   6.91745785e-02,\n",
       "          7.26091217e-01],\n",
       "       [  5.21575471e-01,   6.14948650e-01,   8.15694564e-01,\n",
       "          8.48682288e-02],\n",
       "       [  2.68167921e-01,   2.30881864e-01,   1.13360748e-01,\n",
       "          9.54407407e-01],\n",
       "       [  4.51477187e-01,   2.08482108e-01,   2.78568004e-02,\n",
       "          5.75338406e-01],\n",
       "       [  2.93335481e-01,   2.88388812e-01,   3.88507169e-02,\n",
       "          8.08223305e-01],\n",
       "       [  8.44331014e-01,   7.51222822e-01,   3.81215948e-01,\n",
       "          2.24513243e-01],\n",
       "       [  6.44787680e-01,   6.00022470e-01,   3.94893335e-01,\n",
       "          7.04494568e-02],\n",
       "       [  9.22790400e-01,   9.75362082e-01,   8.71032096e-01,\n",
       "          2.52210998e-01],\n",
       "       [  3.06539819e-02,   2.51297700e-02,   3.85045012e-02,\n",
       "          7.74690403e-01],\n",
       "       [  5.65052414e-01,   5.92347592e-01,   8.74874798e-01,\n",
       "          2.28207738e-02],\n",
       "       [  9.49391866e-01,   1.00501971e-01,   4.47164621e-01,\n",
       "          3.05855433e-01],\n",
       "       [  4.07213326e-01,   7.35415026e-01,   6.49605005e-02,\n",
       "          8.78824824e-01]])"
      ]
     },
     "execution_count": 24,
     "metadata": {},
     "output_type": "execute_result"
    }
   ],
   "source": [
    "biases"
   ]
  },
  {
   "cell_type": "code",
   "execution_count": 25,
   "metadata": {},
   "outputs": [
    {
     "ename": "AxisError",
     "evalue": "axis 3 is out of bounds for array of dimension 0",
     "output_type": "error",
     "traceback": [
      "\u001b[0;31m---------------------------------------------------------------------------\u001b[0m",
      "\u001b[0;31mAxisError\u001b[0m                                 Traceback (most recent call last)",
      "\u001b[0;32m<ipython-input-25-c1ddd6a23d62>\u001b[0m in \u001b[0;36m<module>\u001b[0;34m()\u001b[0m\n\u001b[0;32m----> 1\u001b[0;31m \u001b[0mnp\u001b[0m\u001b[0;34m.\u001b[0m\u001b[0mproduct\u001b[0m\u001b[0;34m(\u001b[0m\u001b[0;36m2\u001b[0m\u001b[0;34m,\u001b[0m\u001b[0;36m3\u001b[0m\u001b[0;34m)\u001b[0m\u001b[0;34m\u001b[0m\u001b[0m\n\u001b[0m",
      "\u001b[0;32m/Library/Frameworks/Python.framework/Versions/2.7/lib/python2.7/site-packages/numpy/core/fromnumeric.pyc\u001b[0m in \u001b[0;36mproduct\u001b[0;34m(a, axis, dtype, out, keepdims)\u001b[0m\n\u001b[1;32m   1847\u001b[0m     \u001b[0;32mif\u001b[0m \u001b[0mkeepdims\u001b[0m \u001b[0;32mis\u001b[0m \u001b[0;32mnot\u001b[0m \u001b[0mnp\u001b[0m\u001b[0;34m.\u001b[0m\u001b[0m_NoValue\u001b[0m\u001b[0;34m:\u001b[0m\u001b[0;34m\u001b[0m\u001b[0m\n\u001b[1;32m   1848\u001b[0m         \u001b[0mkwargs\u001b[0m\u001b[0;34m[\u001b[0m\u001b[0;34m'keepdims'\u001b[0m\u001b[0;34m]\u001b[0m \u001b[0;34m=\u001b[0m \u001b[0mkeepdims\u001b[0m\u001b[0;34m\u001b[0m\u001b[0m\n\u001b[0;32m-> 1849\u001b[0;31m     \u001b[0;32mreturn\u001b[0m \u001b[0mum\u001b[0m\u001b[0;34m.\u001b[0m\u001b[0mmultiply\u001b[0m\u001b[0;34m.\u001b[0m\u001b[0mreduce\u001b[0m\u001b[0;34m(\u001b[0m\u001b[0ma\u001b[0m\u001b[0;34m,\u001b[0m \u001b[0maxis\u001b[0m\u001b[0;34m=\u001b[0m\u001b[0maxis\u001b[0m\u001b[0;34m,\u001b[0m \u001b[0mdtype\u001b[0m\u001b[0;34m=\u001b[0m\u001b[0mdtype\u001b[0m\u001b[0;34m,\u001b[0m \u001b[0mout\u001b[0m\u001b[0;34m=\u001b[0m\u001b[0mout\u001b[0m\u001b[0;34m,\u001b[0m \u001b[0;34m**\u001b[0m\u001b[0mkwargs\u001b[0m\u001b[0;34m)\u001b[0m\u001b[0;34m\u001b[0m\u001b[0m\n\u001b[0m\u001b[1;32m   1850\u001b[0m \u001b[0;34m\u001b[0m\u001b[0m\n\u001b[1;32m   1851\u001b[0m \u001b[0;34m\u001b[0m\u001b[0m\n",
      "\u001b[0;31mAxisError\u001b[0m: axis 3 is out of bounds for array of dimension 0"
     ]
    }
   ],
   "source": [
    "np.product([])"
   ]
  },
  {
   "cell_type": "code",
   "execution_count": null,
   "metadata": {},
   "outputs": [],
   "source": []
  }
 ],
 "metadata": {
  "kernelspec": {
   "display_name": "Python 2",
   "language": "python",
   "name": "python2"
  },
  "language_info": {
   "codemirror_mode": {
    "name": "ipython",
    "version": 2
   },
   "file_extension": ".py",
   "mimetype": "text/x-python",
   "name": "python",
   "nbconvert_exporter": "python",
   "pygments_lexer": "ipython2",
   "version": "2.7.14"
  }
 },
 "nbformat": 4,
 "nbformat_minor": 2
}
