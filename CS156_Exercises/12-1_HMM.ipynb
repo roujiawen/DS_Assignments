{
 "cells": [
  {
   "cell_type": "code",
   "execution_count": 2,
   "metadata": {},
   "outputs": [],
   "source": [
    "import numpy as np\n",
    "data = str(np.loadtxt(\"speaker.txt\",dtype=str))"
   ]
  },
  {
   "cell_type": "code",
   "execution_count": 9,
   "metadata": {},
   "outputs": [],
   "source": [
    "coding = {c: i for i, c in enumerate(list(set(data)))}"
   ]
  },
  {
   "cell_type": "code",
   "execution_count": 10,
   "metadata": {},
   "outputs": [],
   "source": [
    "v = [coding[_] for _ in data]"
   ]
  },
  {
   "cell_type": "code",
   "execution_count": 16,
   "metadata": {},
   "outputs": [],
   "source": [
    "n_speaker = 3\n",
    "p_h1 = np.array([0.3,0.3,0.4])\n",
    "A = np.full((3,3),1./11)\n",
    "for i in range(n_speaker):\n",
    "    A[i,i] = 1 - (np.sum(A[:, i])-A[i,i])\n",
    "\n",
    "def M_step():\n",
    "    #a\n",
    "    A_new = np.empty((3,3))\n",
    "    for i in range(n_speaker):\n",
    "        a_new = p_h1\n",
    "        #A\n",
    "        for j in range(n_speaker):\n",
    "            # number of times that a transition from j to i occured\n",
    "            tran_times = np\n",
    "            A_new[i,j] =\n",
    "    \n",
    "    \n"
   ]
  },
  {
   "cell_type": "code",
   "execution_count": 17,
   "metadata": {},
   "outputs": [
    {
     "data": {
      "text/plain": [
       "array([[ 0.81818182,  0.09090909,  0.09090909],\n",
       "       [ 0.09090909,  0.81818182,  0.09090909],\n",
       "       [ 0.09090909,  0.09090909,  0.81818182]])"
      ]
     },
     "execution_count": 17,
     "metadata": {},
     "output_type": "execute_result"
    }
   ],
   "source": [
    "A"
   ]
  },
  {
   "cell_type": "code",
   "execution_count": null,
   "metadata": {},
   "outputs": [],
   "source": []
  }
 ],
 "metadata": {
  "kernelspec": {
   "display_name": "Python 2",
   "language": "python",
   "name": "python2"
  },
  "language_info": {
   "codemirror_mode": {
    "name": "ipython",
    "version": 2
   },
   "file_extension": ".py",
   "mimetype": "text/x-python",
   "name": "python",
   "nbconvert_exporter": "python",
   "pygments_lexer": "ipython2",
   "version": "2.7.14"
  }
 },
 "nbformat": 4,
 "nbformat_minor": 2
}
