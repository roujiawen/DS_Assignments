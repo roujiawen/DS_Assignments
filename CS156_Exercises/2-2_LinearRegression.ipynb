{
 "cells": [
  {
   "cell_type": "code",
   "execution_count": 116,
   "metadata": {},
   "outputs": [
    {
     "data": {
      "text/html": [
       "<div>\n",
       "<style scoped>\n",
       "    .dataframe tbody tr th:only-of-type {\n",
       "        vertical-align: middle;\n",
       "    }\n",
       "\n",
       "    .dataframe tbody tr th {\n",
       "        vertical-align: top;\n",
       "    }\n",
       "\n",
       "    .dataframe thead th {\n",
       "        text-align: right;\n",
       "    }\n",
       "</style>\n",
       "<table border=\"1\" class=\"dataframe\">\n",
       "  <thead>\n",
       "    <tr style=\"text-align: right;\">\n",
       "      <th></th>\n",
       "      <th>total_followers</th>\n",
       "      <th>type</th>\n",
       "      <th>category</th>\n",
       "      <th>month</th>\n",
       "      <th>weekday</th>\n",
       "      <th>hour</th>\n",
       "      <th>paid</th>\n",
       "      <th>comment</th>\n",
       "      <th>like</th>\n",
       "      <th>share</th>\n",
       "    </tr>\n",
       "  </thead>\n",
       "  <tbody>\n",
       "    <tr>\n",
       "      <th>0</th>\n",
       "      <td>124050</td>\n",
       "      <td>Photo</td>\n",
       "      <td>3</td>\n",
       "      <td>6</td>\n",
       "      <td>4</td>\n",
       "      <td>17</td>\n",
       "      <td>1</td>\n",
       "      <td>3</td>\n",
       "      <td>77</td>\n",
       "      <td>16</td>\n",
       "    </tr>\n",
       "    <tr>\n",
       "      <th>1</th>\n",
       "      <td>132556</td>\n",
       "      <td>Photo</td>\n",
       "      <td>2</td>\n",
       "      <td>8</td>\n",
       "      <td>3</td>\n",
       "      <td>24</td>\n",
       "      <td>0</td>\n",
       "      <td>11</td>\n",
       "      <td>313</td>\n",
       "      <td>50</td>\n",
       "    </tr>\n",
       "    <tr>\n",
       "      <th>2</th>\n",
       "      <td>92786</td>\n",
       "      <td>Photo</td>\n",
       "      <td>2</td>\n",
       "      <td>2</td>\n",
       "      <td>6</td>\n",
       "      <td>17</td>\n",
       "      <td>1</td>\n",
       "      <td>2</td>\n",
       "      <td>145</td>\n",
       "      <td>39</td>\n",
       "    </tr>\n",
       "    <tr>\n",
       "      <th>3</th>\n",
       "      <td>135632</td>\n",
       "      <td>Photo</td>\n",
       "      <td>1</td>\n",
       "      <td>9</td>\n",
       "      <td>2</td>\n",
       "      <td>1</td>\n",
       "      <td>0</td>\n",
       "      <td>2</td>\n",
       "      <td>299</td>\n",
       "      <td>49</td>\n",
       "    </tr>\n",
       "    <tr>\n",
       "      <th>4</th>\n",
       "      <td>139540</td>\n",
       "      <td>Link</td>\n",
       "      <td>1</td>\n",
       "      <td>12</td>\n",
       "      <td>3</td>\n",
       "      <td>17</td>\n",
       "      <td>1</td>\n",
       "      <td>7</td>\n",
       "      <td>229</td>\n",
       "      <td>21</td>\n",
       "    </tr>\n",
       "  </tbody>\n",
       "</table>\n",
       "</div>"
      ],
      "text/plain": [
       "   total_followers   type category  month  weekday  hour  paid  comment  like  \\\n",
       "0           124050  Photo        3      6        4    17     1        3    77   \n",
       "1           132556  Photo        2      8        3    24     0       11   313   \n",
       "2            92786  Photo        2      2        6    17     1        2   145   \n",
       "3           135632  Photo        1      9        2     1     0        2   299   \n",
       "4           139540   Link        1     12        3    17     1        7   229   \n",
       "\n",
       "   share  \n",
       "0     16  \n",
       "1     50  \n",
       "2     39  \n",
       "3     49  \n",
       "4     21  "
      ]
     },
     "execution_count": 116,
     "metadata": {},
     "output_type": "execute_result"
    }
   ],
   "source": [
    "import pandas as pd\n",
    "df = pd.read_csv(\"facebook_train.csv\", dtype={\"category\":str})\n",
    "df.head()"
   ]
  },
  {
   "cell_type": "code",
   "execution_count": 117,
   "metadata": {},
   "outputs": [
    {
     "data": {
      "text/plain": [
       "array(['total_followers', 'month', 'weekday', 'hour', 'paid', 'comment',\n",
       "       'like', 'share', 'type_Link', 'type_Photo', 'type_Status',\n",
       "       'type_Video', 'category_1', 'category_2', 'category_3', 'weekend',\n",
       "       'summer', 'day', 'evening'], dtype=object)"
      ]
     },
     "execution_count": 117,
     "metadata": {},
     "output_type": "execute_result"
    }
   ],
   "source": [
    "train_data = pd.get_dummies(df)\n",
    "train_data[\"weekend\"] = (train_data[\"weekday\"]>4).astype(int)\n",
    "train_data[\"summer\"] = ((train_data[\"month\"]>4) | (train_data[\"month\"]<10)).astype(int)\n",
    "train_data[\"day\"] = ((train_data[\"hour\"]>8) | (train_data[\"hour\"]<18)).astype(int)\n",
    "train_data[\"evening\"] = (train_data[\"hour\"]>18).astype(int)\n",
    "train_data.columns.values"
   ]
  },
  {
   "cell_type": "code",
   "execution_count": 124,
   "metadata": {},
   "outputs": [],
   "source": [
    "train_X = train_data[['paid',  'category_1',\n",
    "       'category_2', 'category_3', 'weekend', 'evening']]\n",
    "train_Y = train_data[\"comment\"]"
   ]
  },
  {
   "cell_type": "code",
   "execution_count": 125,
   "metadata": {},
   "outputs": [
    {
     "data": {
      "text/plain": [
       "397"
      ]
     },
     "execution_count": 125,
     "metadata": {},
     "output_type": "execute_result"
    }
   ],
   "source": [
    "len(train_Y)"
   ]
  },
  {
   "cell_type": "code",
   "execution_count": 126,
   "metadata": {},
   "outputs": [
    {
     "name": "stdout",
     "output_type": "stream",
     "text": [
      "Coefficient = [ 7.06365492 -3.05076665  4.75921257 -1.70844592  7.9796269   5.04730738]\n",
      "MSE = 355.864329313\n",
      "R^2 = -0.123025497869\n"
     ]
    }
   ],
   "source": [
    "from sklearn.linear_model import LinearRegression\n",
    "from sklearn.metrics import mean_squared_error, r2_score\n",
    "import numpy as np\n",
    "train_Y, valid_Y = train_Y[:300], train_Y[300:]\n",
    "train_X, valid_X = train_X[:300], train_X[300:]\n",
    "model = LinearRegression()\n",
    "model.fit(train_X, train_Y)\n",
    "predicted = model.predict(valid_X)\n",
    "print \"Coefficient =\", model.coef_\n",
    "print \"MSE =\", mean_squared_error(valid_Y, predicted)\n",
    "print \"R^2 =\", r2_score(valid_Y, predicted)"
   ]
  },
  {
   "cell_type": "code",
   "execution_count": 47,
   "metadata": {},
   "outputs": [
    {
     "data": {
      "text/plain": [
       "array(['total_followers', 'paid', 'comment', 'like', 'share', 'type_Link',\n",
       "       'type_Photo', 'type_Status', 'category_1', 'category_2',\n",
       "       'category_3', 'month_1', 'month_10', 'month_11', 'month_12',\n",
       "       'month_2', 'month_3', 'month_4', 'month_5', 'month_6', 'month_7',\n",
       "       'month_8', 'month_9', 'weekday_1', 'weekday_2', 'weekday_3',\n",
       "       'weekday_4', 'weekday_5', 'weekday_6', 'weekday_7', 'hour_1',\n",
       "       'hour_10', 'hour_13', 'hour_15', 'hour_16', 'hour_17', 'hour_18',\n",
       "       'hour_19', 'hour_2', 'hour_20', 'hour_21', 'hour_22', 'hour_23',\n",
       "       'hour_24', 'hour_3', 'hour_4', 'hour_5', 'hour_8'], dtype=object)"
      ]
     },
     "execution_count": 47,
     "metadata": {},
     "output_type": "execute_result"
    }
   ],
   "source": [
    "import pandas as pd\n",
    "df = pd.read_csv(\"facebook_test.csv\", dtype={\"category\":str, \"month\":str, \"weekday\":str, \"hour\":str})\n",
    "df.head()\n",
    "test_data = pd.get_dummies(df)\n",
    "test_data.columns.values"
   ]
  },
  {
   "cell_type": "code",
   "execution_count": 53,
   "metadata": {},
   "outputs": [],
   "source": [
    "test_X = test_data[['total_followers', 'paid', 'type_Photo',\n",
    "       'type_Status', 'category_2', 'category_3', 'month_10',\n",
    "       'month_11', 'month_12', 'month_2', 'month_3', 'month_4', 'month_5',\n",
    "       'month_6', 'month_7', 'month_8', 'month_9', 'weekday_2',\n",
    "       'weekday_3', 'weekday_4', 'weekday_5', 'weekday_6', 'weekday_7',\n",
    "       'hour_15', 'hour_16', 'hour_17', 'hour_18', 'hour_19',\n",
    "       'hour_2', 'hour_20', 'hour_21', 'hour_22', 'hour_23', 'hour_24',\n",
    "       'hour_3', 'hour_4', 'hour_5','hour_8']]\n",
    "test_Y = test_data[\"share\"]"
   ]
  },
  {
   "cell_type": "code",
   "execution_count": 54,
   "metadata": {},
   "outputs": [
    {
     "name": "stdout",
     "output_type": "stream",
     "text": [
      "Coefficient = [  3.08241983e-03   5.04216173e+00  -5.54911400e+00  -6.88083171e+00\n",
      "   2.09961392e+01   1.64068750e+01  -1.61932068e+02  -1.65074318e+02\n",
      "  -1.79984438e+02  -1.32878797e+01  -6.09765741e+01  -7.94782967e+01\n",
      "  -1.02630390e+02  -1.40612937e+02  -1.28258471e+02  -1.59311806e+02\n",
      "  -1.48148836e+02  -3.05406047e+00  -4.16279208e+00  -1.11145666e+01\n",
      "  -4.08172657e+00   1.50379089e+00   1.20724271e+01  -2.59007022e+01\n",
      "  -3.93885778e+00   3.94069678e+00  -1.53551062e+00   9.27547266e+01\n",
      "  -6.60352299e+00  -8.19387092e+00  -1.74442538e+01  -1.58667745e+01\n",
      "  -6.33960099e+00   5.83504589e+00   5.23608996e+00   3.21946679e+00\n",
      "  -1.33960088e+01  -8.15015784e+00]\n",
      "RMSE = 32.4847300623\n",
      "R^2 = -1.07824980929\n"
     ]
    }
   ],
   "source": [
    "predicted = model.predict(test_X)\n",
    "print \"Coefficient =\", model.coef_\n",
    "print \"RMSE =\", np.sqrt(mean_squared_error(test_Y, predicted))\n",
    "print \"R^2 =\", r2_score(test_Y, predicted)"
   ]
  },
  {
   "cell_type": "code",
   "execution_count": null,
   "metadata": {},
   "outputs": [],
   "source": []
  }
 ],
 "metadata": {
  "kernelspec": {
   "display_name": "Python 2",
   "language": "python",
   "name": "python2"
  },
  "language_info": {
   "codemirror_mode": {
    "name": "ipython",
    "version": 2
   },
   "file_extension": ".py",
   "mimetype": "text/x-python",
   "name": "python",
   "nbconvert_exporter": "python",
   "pygments_lexer": "ipython2",
   "version": "2.7.14"
  }
 },
 "nbformat": 4,
 "nbformat_minor": 2
}
