{
 "cells": [
  {
   "cell_type": "code",
   "execution_count": 4,
   "metadata": {},
   "outputs": [],
   "source": [
    "#import data\n",
    "import json\n",
    "import codecs\n",
    "\n",
    "with codecs.open('poems.json') as f:\n",
    "    data = json.load(f)"
   ]
  },
  {
   "cell_type": "code",
   "execution_count": 5,
   "metadata": {},
   "outputs": [
    {
     "name": "stdout",
     "output_type": "stream",
     "text": [
      "[(u'songbie', 37), (u'tianyuan', 23), (u'shanshui', 53), (u'zhanzheng', 54), (u'aiqing', 41)]\n"
     ]
    }
   ],
   "source": [
    "# number of data points in each category\n",
    "print [(cate, len(l)) for cate, l in data.items()]"
   ]
  },
  {
   "cell_type": "code",
   "execution_count": 6,
   "metadata": {},
   "outputs": [],
   "source": [
    "# find the set of unique characters\n",
    "all_poems = sum(data.values(), [])\n",
    "alphabet = \"\".join(all_poems)"
   ]
  },
  {
   "cell_type": "code",
   "execution_count": 7,
   "metadata": {},
   "outputs": [],
   "source": [
    "alphabet = alphabet.replace(u\"。\", \"\")\n",
    "alphabet = alphabet.replace(u\"，\", \"\")\n",
    "alphabet = alphabet.replace(u\"！\", \"\")\n",
    "alphabet = alphabet.replace(u\"？\", \"\")"
   ]
  },
  {
   "cell_type": "code",
   "execution_count": 8,
   "metadata": {},
   "outputs": [
    {
     "name": "stdout",
     "output_type": "stream",
     "text": [
      "2170\n"
     ]
    }
   ],
   "source": [
    "# number of characters\n",
    "n_alp = len(set(alphabet))\n",
    "print n_alp"
   ]
  },
  {
   "cell_type": "code",
   "execution_count": 9,
   "metadata": {},
   "outputs": [],
   "source": [
    "# mapping of characters and number codes\n",
    "alphabet = list(set(alphabet))\n",
    "index = range(len(alphabet))\n",
    "encoding_dict = dict(zip(alphabet, index))\n",
    "decoding_dict = dict(zip(index, alphabet))"
   ]
  },
  {
   "cell_type": "code",
   "execution_count": 10,
   "metadata": {},
   "outputs": [],
   "source": [
    "poem_sample = data.values()[0][0]"
   ]
  },
  {
   "cell_type": "code",
   "execution_count": 11,
   "metadata": {},
   "outputs": [],
   "source": [
    "# turn a poem into clauses (separated by punctuation marks)\n",
    "def poem_to_clauses(poem):\n",
    "    temp = poem.replace(u\"，\", u\"。\")\n",
    "    temp = temp.replace(u\"！\", u\"。\")\n",
    "    temp = temp.replace(u\"？\", u\"。\")\n",
    "    clauses = temp.split(u\"。\")\n",
    "    if len(clauses[-1]) <= 1:\n",
    "        return clauses[:-1]\n",
    "    else:\n",
    "        return clauses"
   ]
  },
  {
   "cell_type": "code",
   "execution_count": 12,
   "metadata": {},
   "outputs": [
    {
     "name": "stdout",
     "output_type": "stream",
     "text": [
      "[1232, 922, 692, 832, 1409, 13, 1769]\n"
     ]
    }
   ],
   "source": [
    "# turn a clause to a list of number codes\n",
    "def clause_to_code(clause):\n",
    "    return [encoding_dict[_] for _ in clause]\n",
    "temp = poem_to_clauses(poem_sample)[0]\n",
    "print clause_to_code(temp)"
   ]
  },
  {
   "cell_type": "code",
   "execution_count": 13,
   "metadata": {},
   "outputs": [],
   "source": [
    "# encode all data\n",
    "import numpy as np\n",
    "def encode_data(data):\n",
    "    X = {}\n",
    "    for cate, poem_list in data.items():\n",
    "        X[cate] = []\n",
    "        for poem in poem_list:\n",
    "            clauses = poem_to_clauses(poem)\n",
    "            coded_clauses = [clause_to_code(_) for _ in clauses]\n",
    "            X[cate].append(coded_clauses)\n",
    "    return X\n",
    "\n",
    "# decode functions\n",
    "def code_to_clause(clause):\n",
    "    return [decoding_dict[_] for _ in clause]\n",
    "\n",
    "def code_to_poem(clauses):\n",
    "    lines = []\n",
    "    for clause in clauses:\n",
    "        line = \"\".join(code_to_clause(clause))\n",
    "        lines.append(line)\n",
    "        \n",
    "    return u\"，\".join(lines)+u\"。\"\n",
    "        \n",
    "X = encode_data(data)"
   ]
  },
  {
   "cell_type": "code",
   "execution_count": 14,
   "metadata": {},
   "outputs": [],
   "source": [
    "# training markov models\n",
    "transition = {}\n",
    "initial = {}\n",
    "for cate, poem_list in X.items():\n",
    "    A = np.zeros((n_alp, n_alp))\n",
    "    a = np.zeros((n_alp))\n",
    "    for poem in poem_list:\n",
    "        for clause in poem:\n",
    "            a[clause[0]] += 1\n",
    "            for i in range(len(clause)-1):\n",
    "                A[clause[i+1], clause[i]] += 1\n",
    "    A_sum = A.sum(axis=0)\n",
    "    A_sum[A_sum==0] = 1\n",
    "    A = A / A_sum\n",
    "    a /= a.sum()\n",
    "    transition[cate] = A\n",
    "    initial[cate] = a"
   ]
  },
  {
   "cell_type": "code",
   "execution_count": 15,
   "metadata": {},
   "outputs": [],
   "source": [
    "categories = X.keys()"
   ]
  },
  {
   "cell_type": "code",
   "execution_count": 51,
   "metadata": {},
   "outputs": [
    {
     "name": "stdout",
     "output_type": "stream",
     "text": [
      "songbie\n",
      "山路分处报故人，岂能愁云西风知，风引雨连城边古，挥手泪空相向晚。\n",
      "\n",
      "劳劳劳劳送马川，草黄鹤楼船扫地，初渡河桃花三月，瀚海楼船扫地白。\n",
      "\n",
      "青枫江入吴步样，边头人讼芋田裳，山中军角声向临，日暮掩柴扉试惯。\n",
      "\n",
      "升沉应为客散暮，文翁翻嫌易磋砣，不尽水急流水阔，幕中一曲解行泪。\n",
      "\n",
      "青夹御苑砧声向，挥手自兹去时分，与羌笛桑佣手泪，山六千尺沙莽黄，山一丈夫孩鞞浙，火山陲楠广井奋，相拨颈宇粤樽感，江边古木疏掳屋。\n",
      "\n",
      "随风尘飞鸟，嗟君迟楼船，忽闻游子唱，月向人归雁。\n",
      "\n",
      "火山陲彼似春流，火山此别燕丹认，云山独归远芳树，不觉有离歌声一，不暖锦衾薄估房，铙吹又送巴人已。\n",
      "\n",
      "王孙去莫复，青青枫江风，还从此地别，文翁翻教授，唯有离伤心，天际流绕蜀，长安行处期，崎岖不得意。\n",
      "\n",
      "望君离魂倍，好去疾如刀，山随平野火，鸿雁不足论，今日五津亭，山独归客稀，周瑜于此地，青山此地石。\n",
      "\n",
      "二龙争战决雌雄，翻教授拨崔离歌，岂能愁里辞家事，料知别苦粱樵浓，赤亭道同是茫客，细碎石大如相向，青山响杜鹃尸缨，火山六月夜寒云。\n",
      "\n",
      "tianyuan\n",
      "惟先生万户，坐看新历剡，官府鸣一曲，长松下孤烟，明田家事南，故巢鸣珂有，此情束鸦初，缀景未及郊。\n",
      "\n",
      "征车自来过，积雨里南亩，三径慰竟他，村流斧伐远，南邻近石出，吴钩近石火，再见封侯万，晨兴来就菊。\n",
      "\n",
      "中庭栀子敲，饥小尾扑花，桥斜阳照渔，松风急蛾正。\n",
      "\n",
      "望断金马门，松下清江村，柳先生万户，故人别业水，遥岚破烟阁，开朝槿舰娆，木啭黄桑麻，苗秀眉老与。\n",
      "\n",
      "膏释原野老念牧，舍南园林叟坼阵，野老去自课越佣，丘园露葵朝归村，柳花源里缲丝挑，自念牧童未已暮，踏雪浦运寄成远，缀景常晏反岩旄，松风寺外斜阳照，绿波春水新泉脉。\n",
      "\n",
      "童未已暮锄，宫帘挂玉弓，蒸藜炊黍归，苍苍横翠微。\n",
      "\n",
      "待到重客犹，饥小甲蔬策，鱼拥香琥珀，村路元无雨，即此中鸥何，园多怀镇邀，轻绡一双苍，望断金马牙，天边合嫩绿，无知己样药，微躯此情软，嫁与春草远，曼倩诙谐取，收橡实榆柚。\n",
      "\n",
      "天羡鸿鹄戏骧流，遥岚破月随人看，乡曲卧鸳鸯暖诤，丘园日斜阳照墟，明田父对门临觞，故人看新晴原野，蒸藜炊黍归来径，白长歌吟松下孤。\n",
      "\n",
      "故池想芜没会，蚕眠桑叶稀袅，三十州胡燕识，野童稚开且为，白长峦谷口倚，郭门万户侯万，天边渔船中习，黄桑麻荣近石。\n",
      "\n",
      "南亩当榛荆，野童未遇压，花惊雪也相，晨兴来堂上，竹入幽鸟笑，绿波春候荆，云光岚彩四，耕者黛驾单。\n",
      "\n",
      "shanshui\n",
      "忆侬道横江田舍，中庭水碧鸟道稽，王者无人歇待船，漾泛舟自清川迥，空子遗琼蕊波一，日照香炉生擒吐，烽火城遥望五岳，黯黮凝黛光秋浦。\n",
      "\n",
      "中巴水，中有意，君相唤，歌声碎。\n",
      "\n",
      "青螺扶身哉，川迥洞庭栀，狂人舞袖回，更上稀立如，王孙自舒几，牛渚由来同，黄河北望试，看秋月枚乘。\n",
      "\n",
      "武帝金甲白，闾阎缭绕蜀，猿吟白发三，游成丝天秋，每逐船流杂，恬澹然空水，独坐观天清，横江开辟流。\n",
      "\n",
      "游成虹蜺似长啸，何当载酒船归去，春山发三老病有，复西岳寻范蠡寡，高欲追尚子知明，莫向余东连汉畤，此中月如眉挂席，英雄割据非天上，红霞表请留盘涡，岧峣太清我皇手，秋浦长城西望试，川如月夜愁不可，缘愁破楼观岳寻，惊波不畏风镜晓，独归去闲桂花上，清心云里鸡羞渌，户外一青花欲垂，日暮云梦泽改饷。\n",
      "\n",
      "迢递嵩高掌，红旗半紫薄，向江北山似，五月来去不，欲渡无尘埃，中庭山黄山，清心亦闲窥，白帝高于此，归去不得去，蜀麻吴山黄，澄澄澄霁壑，天无心随山。\n",
      "\n",
      "空水车岭最，妻子花草群，何壮观天倾，兹辰始休气，归村路旁名，巫山喷雪来，明星乱石作，早晚向江畔。\n",
      "\n",
      "兴是清圣明发三，耐可忘机功祆艰，春潮南登高风花，孤舟轻动风起问，鱼来去不成虹蜺，郎今春看火炎天，每逐流光休气纷，莫教兵士哭龙萦。\n",
      "\n",
      "寄言向秋月，竹喧乱边来，青天清川迥，人舞换新雨，亲朋无中有，越台阁道夜，隐者无心亦，万斛之图张，正中月枚乘，谁解佩更吹，留醉重云欲，白云锦驼鸟，迟日旧别情，回崖丹丘谈，大楼兰终不，长啸喷成丝，天秋发三千，侬道爱幽篁，孤舟子知不，荣光秋日如，天门山鸟飞，巫山喷雪山，正西秦地即，薄暮禽相邀，汝意春看棹，竹溪三吴山，秋霜岁欲渡，了语声晚来，春看天意忆。\n",
      "\n",
      "仙不破楼观垂钓，白日依空水绿玉，三老长短尽成丝，独忘机稻畦一风，境胜登高堂天边，夔州各异城西秋，数丛沙古渡风秋，妇姑相门横江田。\n",
      "\n",
      "zhanzheng\n",
      "关山路，席势反，败马上，移曲不。\n",
      "\n",
      "奸臣甫愤所，颜色临河阳，往死者虽不，上燕尾绣移，铜雀春闺梦，同行人哀哉，况我赴河在，将报君有孙，君诚中肠断，风试借问行，天剑河冰野，或从云开营，租税从本州，誓将军觅战，生铁鼓动山，公家室中男，父母恩岂云，倏忽数不如，山西都尉羽，已报天阴山，此去故不胜，兵过膝北啼，收汝泪纵死，王出身未宜。\n",
      "\n",
      "斩长城头雁飞将，磨刀血洗兵过鳷，出东北来征人未，月初吉置开明月。\n",
      "\n",
      "孟冬沙风吹古人，岂意气恐不起渔，此曲不胜作一夜，雷殷地日边亭七，甲舞换新替护羌，池水傍过箭疾乳，兔丝附书速朽缲，早须驻霜戈逮狂。\n",
      "\n",
      "鹫翎金台云，可怜无寒月，生杂鼓声动，平明吹落日，今年战穿金，未宁静铁关，雷鼓雪海图，弃路逢秋花，胡沙场君行，奸臣欢宴终，城城遥望玉，日题本枝扬，园度陇亩无，恨别离别上，楼中更堪江，苟能逾阡陌，何苦辛酸嘶，呻吟古人亦，移曲折戟冠，其名图坼波，子衣裳单于，益叹身当用，人收海风不，坡陀望翠华。\n",
      "\n",
      "重鼓声鸣黄金阙，怵惕久致罗襦不，问事戎衣裳如弃，将军玉关山谢安。\n",
      "\n",
      "吏夜紫塞外，人在乌贪负，包虎戢金鳞，小山路难回，黠虏塞傍过，艰难奋长戟，军请从戎衣，征人但使龙，积尸草间遁，迥戍边尘犯，幸有遗失阳，流血未休明，感时敢爱封，万国自掷沙，小山正与子，楼兰终无粮。\n",
      "\n",
      "鸟飞瀚海风，县吏夜更吹，焉得附书至，易水暮南欲，欲渡辽水中，瀚海服勇决。\n",
      "\n",
      "永王城万国，安席不足论，百万师顺悟，仰观天地底，青坂在乌贪，早覆暗凋旗，古来沙头雁，驱牛驾车食，归来征人夜，益叹身仕汉，半卷红旗火，次选中水琉，死别鸟不见，与戎贺劳旋，鼓聒川原秋。\n",
      "\n",
      "沧海动江城，公家乡为新，农死者问行，泽国自从贵，雷鼓动摇峦，垢腻脚不息，绝笔于获再，送徒振原秋，匈奴不得牛，一引龙跃鳞，黠虏坐金鞍，男儿日程期，血洗兵五年，从军雄剑四，蓬荜菊垂今，翻思不见明。\n",
      "\n",
      "aiqing\n",
      "九华清池苑皆依，不整鸳衾枕上分，万结在深肠无彩，天生别后唯待情，盘龙玉楼西宫宠，已恨绵无端五泣，堤平江月长在远，玉虎牵丝方锦褥，缓歌一寸相忆深。\n",
      "\n",
      "扬蛾入骨，千人收兮，来烟金合，西宫宠爱，妾心安红，春从此如，盘龙驭气，天长干住。\n",
      "\n",
      "六亲门信难自弃，终日暮情可待画，怨离情只是长在，仙袂飘若萤飞思。\n",
      "\n",
      "飘飖举箔银屏迤，扬蛾眉黛不重生，沿月将沈挑尽沾，结在天子班奏急，惯是梦为感君王，正苦短日暮情两，无心有誓两渺茫，调高起妆晓梦中，隔墙花间会相见，盘龙须臾日日君，轻动知为暮雨来，愁云鬓改冷霜华，绿绮琴台类转回，新词欢桃穰抱往，惯是湖边月光采，其中有女初长成，惆怅望江月昃鸣，鸳鸯语多时难别，黄埃散漫风无力。\n",
      "\n",
      "惆怅夜雨梧桐树，碧蜀江水拍山远，千乘万里云罗一，别亦不知魂魄不，唯待画折枝春游，天生晓梦见底点，愁春带雨时难开，侍宴无光采生死。\n",
      "\n",
      "两相思泪垂钓船，珠有情长江里佳，贾氏窥帘垂春宵，香随静婉歌一曲，白盐山青云起徘，只有仙子班奏急，钿委地来半无夕，仙乐风轻不知相，红豆不如花深情，觉来石应悲来烟，流莺百种花如眉，楼珠箔银甲不如，翠眉黛无人私语，不见愁人间会相，荷花发新承恩泽，能窥帘垂泪始知。\n",
      "\n",
      "九重城阙，来入吴关，为你心托，梨花乱绕。\n",
      "\n",
      "残灯明月下西宫，词欢不是长干住，羌管弦绝期未浓，欲融祖铛缄札何。\n",
      "\n",
      "白盐山在深，不瞻望帝春，昭阳鼙鼓应，青三月光日。\n",
      "\n",
      "一弦写恨，没人兮为，更脱红蜡，能窥帘下，潭清池苑，终堪恨王，借问江清，芙蓉塘外。\n",
      "\n"
     ]
    }
   ],
   "source": [
    "# side goal: generate fake poems\n",
    "import matplotlib.pyplot as plt\n",
    "from collections import Counter\n",
    "def generate(poems, initial, transition):\n",
    "    lens = [len(poem) for poem in poems]\n",
    "    counts = Counter(lens)\n",
    "    values, occur = zip(*counts.items())\n",
    "    occur = np.array(occur).astype(float)\n",
    "    occur /= float(occur.sum())\n",
    "    length = np.random.choice(values, p=occur)\n",
    "    \n",
    "    n_chars = [len(poem[0]) for poem in poems]\n",
    "    counts = Counter(n_chars)\n",
    "    values, occur = zip(*counts.items())\n",
    "    occur = np.array(occur).astype(float)\n",
    "    occur /= float(occur.sum())\n",
    "    len_per_line = np.random.choice(values, p=occur)\n",
    "    \n",
    "    poem = []\n",
    "    for i in range(length):\n",
    "        clause = []\n",
    "        clause.append(np.random.choice(range(2170), p=initial))\n",
    "        for j in range(len_per_line-1):\n",
    "            if transition[:,clause[-1]].sum()>0:\n",
    "                clause.append(np.random.choice(range(2170), p=transition[:, clause[-1]]))\n",
    "            else:\n",
    "                clause.append(np.random.choice(range(2170)))\n",
    "        poem.append(clause)\n",
    "    print code_to_poem(poem)\n",
    "\n",
    "for cate in categories:\n",
    "    print cate\n",
    "    for i in range(10):\n",
    "        generate(X[cate],initial[cate],transition[cate])\n",
    "        print"
   ]
  },
  {
   "cell_type": "code",
   "execution_count": 16,
   "metadata": {},
   "outputs": [
    {
     "data": {
      "text/plain": [
       "1.0"
      ]
     },
     "execution_count": 16,
     "metadata": {},
     "output_type": "execute_result"
    }
   ],
   "source": [
    "transition[\"shanshui\"][:,1].sum()"
   ]
  },
  {
   "cell_type": "code",
   "execution_count": 17,
   "metadata": {},
   "outputs": [
    {
     "name": "stdout",
     "output_type": "stream",
     "text": [
      "0.00408163265306\n",
      "0.00380228136882\n",
      "0.0018691588785\n",
      "0.00104821802935\n",
      "0.00212314225053\n"
     ]
    }
   ],
   "source": [
    "# finding smallest nonzero entries\n",
    "for cate, sub in initial.items():\n",
    "    print np.min(sub[sub>0])"
   ]
  },
  {
   "cell_type": "code",
   "execution_count": 18,
   "metadata": {},
   "outputs": [
    {
     "data": {
      "text/plain": [
       "0.00212314225053"
      ]
     },
     "execution_count": 18,
     "metadata": {},
     "output_type": "execute_result"
    }
   ],
   "source": [
    "0.0625\n",
    "0.0909090909091\n",
    "0.0185185185185\n",
    "0.0204081632653\n",
    "0.03125\n",
    "0.00408163265306\n",
    "0.00380228136882\n",
    "0.0018691588785\n",
    "0.00104821802935\n",
    "0.00212314225053"
   ]
  },
  {
   "cell_type": "code",
   "execution_count": 19,
   "metadata": {},
   "outputs": [],
   "source": [
    "# prediction function\n",
    "\n",
    "import operator\n",
    "def log_p(p):\n",
    "    if p == 0:\n",
    "        return -8\n",
    "    else:\n",
    "        return np.log(p)\n",
    "\n",
    "\n",
    "def predict(poem, initial, transition):\n",
    "    log_proba = {}\n",
    "    for cate in categories:\n",
    "        p = 0\n",
    "        for clause in poem:\n",
    "            p += log_p(initial[cate][clause[0]])\n",
    "            for i in range(len(clause)-1):\n",
    "                p += log_p(transition[cate][clause[i+1], clause[i]])\n",
    "        log_proba[cate] = p\n",
    "    return max(log_proba.iteritems(), key=operator.itemgetter(1))[0]\n",
    "\n",
    "#print predict(X[\"tianyuan\"][2])"
   ]
  },
  {
   "cell_type": "code",
   "execution_count": 20,
   "metadata": {},
   "outputs": [],
   "source": [
    "n_by_cate =  dict([(cate, len(l)) for cate, l in data.items()])"
   ]
  },
  {
   "cell_type": "code",
   "execution_count": 21,
   "metadata": {},
   "outputs": [
    {
     "data": {
      "text/plain": [
       "[u'songbie', u'tianyuan', u'shanshui', u'zhanzheng', u'aiqing']"
      ]
     },
     "execution_count": 21,
     "metadata": {},
     "output_type": "execute_result"
    }
   ],
   "source": [
    "categories"
   ]
  },
  {
   "cell_type": "code",
   "execution_count": 22,
   "metadata": {},
   "outputs": [],
   "source": [
    "cate_num = dict(zip(categories, range(5)))"
   ]
  },
  {
   "cell_type": "code",
   "execution_count": 23,
   "metadata": {},
   "outputs": [
    {
     "name": "stdout",
     "output_type": "stream",
     "text": [
      "{u'songbie': 306, u'tianyuan': 400, u'shanshui': 572, u'zhanzheng': 898, u'aiqing': 412}\n",
      "0.5176\n"
     ]
    }
   ],
   "source": [
    "# LOOCV with unbalanced data\n",
    "\n",
    "def LOO(X):\n",
    "    set_aside_index = {cate: np.random.randint(0, n) for cate, n in n_by_cate.items()}\n",
    "    \n",
    "    transition = {}\n",
    "    initial = {}\n",
    "    for cate, poem_list in X.items():\n",
    "        A = np.zeros((n_alp, n_alp))\n",
    "        a = np.zeros((n_alp))\n",
    "        for poem_id, poem in enumerate(poem_list):\n",
    "            if poem_id != set_aside_index[cate]:\n",
    "                for clause in poem:\n",
    "                    a[clause[0]] += 1\n",
    "                    for i in range(len(clause)-1):\n",
    "                        A[clause[i+1], clause[i]] += 1\n",
    "        A_sum = A.sum(axis=0)\n",
    "        A_sum[A_sum==0] = 1\n",
    "        A = A / A_sum\n",
    "        a /= a.sum()\n",
    "        transition[cate] = A\n",
    "        initial[cate] = a\n",
    "    \n",
    "    predicted = {}\n",
    "    for cate, i in set_aside_index.items():\n",
    "        predicted[cate] = predict(X[cate][i], initial, transition)\n",
    "    return predicted\n",
    "\n",
    "def LOOCV(n_trials=1000):\n",
    "    acc_by_cate = {cate:0 for cate in n_by_cate}\n",
    "    confusion = np.zeros((5,5))\n",
    "    for i in range(n_trials):\n",
    "        predicted = LOO(X)\n",
    "        for cate, result in predicted.items():\n",
    "            confusion[cate_num[result], cate_num[cate]]+=1\n",
    "            if cate == result:\n",
    "                acc_by_cate[cate] += 1\n",
    "                \n",
    "        \n",
    "    print acc_by_cate\n",
    "    print sum(acc_by_cate.values())/(5.*n_trials)\n",
    "    return acc_by_cate, confusion\n",
    "    \n",
    "acc, confusion0 = LOOCV()"
   ]
  },
  {
   "cell_type": "code",
   "execution_count": 24,
   "metadata": {},
   "outputs": [],
   "source": [
    "# confusion matrix\n",
    "confusion0 /= confusion0.sum()"
   ]
  },
  {
   "cell_type": "code",
   "execution_count": 25,
   "metadata": {},
   "outputs": [],
   "source": [
    "confusion0 *= 100"
   ]
  },
  {
   "cell_type": "code",
   "execution_count": 26,
   "metadata": {},
   "outputs": [
    {
     "data": {
      "text/plain": [
       "array([[  6.12,   0.74,   1.74,   1.3 ,   1.12],\n",
       "       [  0.04,   8.  ,   0.64,   0.04,   0.04],\n",
       "       [  6.44,   4.72,  11.44,   0.42,   5.52],\n",
       "       [  5.58,   6.48,   2.4 ,  17.96,   5.08],\n",
       "       [  1.82,   0.06,   3.78,   0.28,   8.24]])"
      ]
     },
     "execution_count": 26,
     "metadata": {},
     "output_type": "execute_result"
    }
   ],
   "source": [
    "confusion0"
   ]
  },
  {
   "cell_type": "code",
   "execution_count": 27,
   "metadata": {},
   "outputs": [
    {
     "data": {
      "text/plain": [
       "array([ 11.02,   8.76,  28.54,  37.5 ,  14.18])"
      ]
     },
     "execution_count": 27,
     "metadata": {},
     "output_type": "execute_result"
    }
   ],
   "source": [
    "confusion0.sum(axis=1)"
   ]
  },
  {
   "cell_type": "code",
   "execution_count": 28,
   "metadata": {},
   "outputs": [
    {
     "name": "stdout",
     "output_type": "stream",
     "text": [
      "{u'songbie': u'shanshui', u'tianyuan': u'tianyuan', u'shanshui': u'aiqing', u'zhanzheng': u'zhanzheng', u'aiqing': u'zhanzheng'}\n"
     ]
    }
   ],
   "source": [
    "# LOOCV with balanced data\n",
    "def LOO1(X):\n",
    "    set_aside_index = {cate: np.random.randint(0, n) for cate, n in n_by_cate.items()}\n",
    "    \n",
    "    transition = {}\n",
    "    initial = {}\n",
    "    for cate, poem_list in X.items():\n",
    "        A = np.zeros((n_alp, n_alp))\n",
    "        a = np.zeros((n_alp))\n",
    "        count = 0\n",
    "        for poem_id, poem in enumerate(poem_list):\n",
    "            if poem_id != set_aside_index[cate]:\n",
    "                for clause in poem:\n",
    "                    a[clause[0]] += 1\n",
    "                    for i in range(len(clause)-1):\n",
    "                        A[clause[i+1], clause[i]] += 1\n",
    "                count += 1\n",
    "            if count>=22: break            \n",
    "        A_sum = A.sum(axis=0)\n",
    "        A_sum[A_sum==0] = 1\n",
    "        A = A / A_sum\n",
    "        a /= a.sum()\n",
    "        transition[cate] = A\n",
    "        initial[cate] = a\n",
    "    \n",
    "    predicted = {}\n",
    "    for cate, i in set_aside_index.items():\n",
    "        predicted[cate] = predict(X[cate][i], initial, transition)\n",
    "    return predicted\n",
    "print LOO1(X)"
   ]
  },
  {
   "cell_type": "code",
   "execution_count": 29,
   "metadata": {},
   "outputs": [
    {
     "name": "stdout",
     "output_type": "stream",
     "text": [
      "{u'songbie': 303, u'tianyuan': 572, u'shanshui': 374, u'zhanzheng': 851, u'aiqing': 453}\n",
      "0.5106\n"
     ]
    }
   ],
   "source": [
    "def LOOCV1(n_trials=1000):\n",
    "    acc_by_cate = {cate:0 for cate in n_by_cate}\n",
    "    confusion = np.zeros((5,5))\n",
    "    for i in range(n_trials):\n",
    "        predicted = LOO1(X)\n",
    "        for cate, result in predicted.items():\n",
    "            confusion[cate_num[result], cate_num[cate]]+=1\n",
    "            if cate == result:\n",
    "                acc_by_cate[cate] += 1\n",
    "            \n",
    "                \n",
    "        \n",
    "    print acc_by_cate\n",
    "    print sum(acc_by_cate.values())/(5.*n_trials)\n",
    "    return acc_by_cate, confusion\n",
    "acc1, confusion1 = LOOCV1()"
   ]
  },
  {
   "cell_type": "code",
   "execution_count": 30,
   "metadata": {},
   "outputs": [],
   "source": [
    "confusion1 /= 5000."
   ]
  },
  {
   "cell_type": "code",
   "execution_count": 31,
   "metadata": {},
   "outputs": [],
   "source": [
    "confusion1 *= 100"
   ]
  },
  {
   "cell_type": "code",
   "execution_count": 33,
   "metadata": {},
   "outputs": [
    {
     "data": {
      "text/plain": [
       "array([[  6.06,   1.28,   3.84,   0.62,   0.84],\n",
       "       [  1.5 ,  11.44,   2.54,   0.26,   2.72],\n",
       "       [  5.66,   3.02,   7.48,   0.84,   4.12],\n",
       "       [  4.52,   3.06,   2.24,  17.02,   3.26],\n",
       "       [  2.26,   1.2 ,   3.9 ,   1.26,   9.06]])"
      ]
     },
     "execution_count": 33,
     "metadata": {},
     "output_type": "execute_result"
    }
   ],
   "source": [
    "confusion1"
   ]
  },
  {
   "cell_type": "code",
   "execution_count": 32,
   "metadata": {},
   "outputs": [
    {
     "data": {
      "text/plain": [
       "array([ 12.64,  18.46,  21.12,  30.1 ,  17.68])"
      ]
     },
     "execution_count": 32,
     "metadata": {},
     "output_type": "execute_result"
    }
   ],
   "source": [
    "confusion1.sum(axis=1)"
   ]
  },
  {
   "cell_type": "code",
   "execution_count": null,
   "metadata": {},
   "outputs": [],
   "source": []
  }
 ],
 "metadata": {
  "kernelspec": {
   "display_name": "Python 2",
   "language": "python",
   "name": "python2"
  },
  "language_info": {
   "codemirror_mode": {
    "name": "ipython",
    "version": 2
   },
   "file_extension": ".py",
   "mimetype": "text/x-python",
   "name": "python",
   "nbconvert_exporter": "python",
   "pygments_lexer": "ipython2",
   "version": "2.7.14"
  }
 },
 "nbformat": 4,
 "nbformat_minor": 2
}
