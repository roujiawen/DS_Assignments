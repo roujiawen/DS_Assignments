{
 "cells": [
  {
   "cell_type": "markdown",
   "metadata": {},
   "source": [
    "# Load the entire MNIST digit dataset"
   ]
  },
  {
   "cell_type": "code",
   "execution_count": 82,
   "metadata": {},
   "outputs": [],
   "source": [
    "# Reference: https://github.com/aferriss/mnist2image/blob/master/mnist.py\n",
    "import os, struct\n",
    "from array import array as pyarray\n",
    "from numpy import append, array, int8, uint8, zeros\n",
    "from pylab import *\n",
    "from numpy import *\n",
    "from PIL import Image\n",
    "import math\n",
    "\n",
    "def load_mnist(dataset=\"training\", digits=np.arange(10), path=\".\", size = 60000):\n",
    "    if dataset == \"training\":\n",
    "        fname_img = os.path.join(path, 'train-images-idx3-ubyte')\n",
    "        fname_lbl = os.path.join(path, 'train-labels-idx1-ubyte')\n",
    "    elif dataset == \"testing\":\n",
    "        fname_img = os.path.join(path, 't10k-images-idx3-ubyte')\n",
    "        fname_lbl = os.path.join(path, 't10k-labels-idx1-ubyte')\n",
    "    \n",
    "    else:\n",
    "        raise ValueError(\"dataset must be 'testing' or 'training'\")\n",
    "\n",
    "    flbl = open(fname_lbl, 'rb')\n",
    "    magic_nr, size = struct.unpack(\">II\", flbl.read(8))\n",
    "    lbl = pyarray(\"b\", flbl.read())\n",
    "    flbl.close()\n",
    "\n",
    "    fimg = open(fname_img, 'rb')\n",
    "    magic_nr, size, rows, cols = struct.unpack(\">IIII\", fimg.read(16))\n",
    "    img = pyarray(\"B\", fimg.read())\n",
    "    fimg.close()\n",
    "\n",
    "    ind = [ k for k in range(size) if lbl[k] in digits ]\n",
    "    N = size #int(len(ind) * size/100.)\n",
    "    images = zeros((N, rows, cols), dtype=uint8)\n",
    "    labels = zeros((N, 1), dtype=int8)\n",
    "    for i in range(N): #int(len(ind) * size/100.)):\n",
    "        images[i] = array(img[ ind[i]*rows*cols : (ind[i]+1)*rows*cols ])\\\n",
    "            .reshape((rows, cols))\n",
    "        labels[i] = lbl[ind[i]]\n",
    "    labels = np.array([label[0] for label in labels])\n",
    "    return images, labels"
   ]
  },
  {
   "cell_type": "code",
   "execution_count": 83,
   "metadata": {},
   "outputs": [],
   "source": [
    "train_images, train_labels = load_mnist()"
   ]
  },
  {
   "cell_type": "markdown",
   "metadata": {},
   "source": [
    "# Choose two digit classes (e.g 7s and 3s) from the training data, and plot some of the examples."
   ]
  },
  {
   "cell_type": "code",
   "execution_count": 68,
   "metadata": {},
   "outputs": [
    {
     "name": "stdout",
     "output_type": "stream",
     "text": [
      "Picked 6131 images of digit 3 \n",
      "and 6265 images of digit 7\n"
     ]
    }
   ],
   "source": [
    "train_images_3 = train_images[train_labels==3]\n",
    "train_images_7 = train_images[train_labels==7]\n",
    "print \"Picked {} images of digit 3 \\nand {} images of digit 7\".format(len(train_images_3), len(train_images_7))"
   ]
  },
  {
   "cell_type": "code",
   "execution_count": 69,
   "metadata": {},
   "outputs": [
    {
     "data": {
      "image/png": "[encoded data removed]",
      "text/plain": [
       "<matplotlib.figure.Figure at 0x111a66510>"
      ]
     },
     "metadata": {},
     "output_type": "display_data"
    }
   ],
   "source": [
    "import matplotlib.pyplot as plt\n",
    "def plot_random(images):\n",
    "    fig, axs = plt.subplots(2, 5)\n",
    "    for ax in axs.ravel():\n",
    "        ax.imshow(images[np.random.randint(len(images))], cmap=\"gray_r\") \n",
    "        ax.axis(\"off\")\n",
    "plot_random(train_images_3)"
   ]
  },
  {
   "cell_type": "code",
   "execution_count": 70,
   "metadata": {},
   "outputs": [
    {
     "data": {
      "image/png": "[encoded data removed]",
      "text/plain": [
       "<matplotlib.figure.Figure at 0x1119166d0>"
      ]
     },
     "metadata": {},
     "output_type": "display_data"
    }
   ],
   "source": [
    "plot_random(train_images_7)"
   ]
  },
  {
   "cell_type": "markdown",
   "metadata": {},
   "source": [
    "# Train a support vector classifier using each of the following kernels: Linear, Poly, RBF"
   ]
  },
  {
   "cell_type": "code",
   "execution_count": 71,
   "metadata": {},
   "outputs": [],
   "source": [
    "# Prepare training data; combine and shuffle\n",
    "from random import shuffle\n",
    "data = zip(train_images_7, [1]*len(train_images_7))+zip(train_images_3, [0]*len(train_images_3))\n",
    "shuffle(data)\n",
    "X, y = zip(*data)\n",
    "X = np.array(X).reshape(len(y),28*28)"
   ]
  },
  {
   "cell_type": "code",
   "execution_count": 80,
   "metadata": {},
   "outputs": [
    {
     "name": "stdout",
     "output_type": "stream",
     "text": [
      "{'rbf': 378.7521810531616, 'linear': 10.659451007843018, 'poly': 6.508466005325317}\n"
     ]
    }
   ],
   "source": [
    "# Measure training time\n",
    "from sklearn.svm import SVC, LinearSVC\n",
    "from time import time\n",
    "kernels = {k:SVC(kernel=k) for k in [\"linear\", \"poly\", \"rbf\"]}\n",
    "times = {}\n",
    "for name, model in kernels.items():\n",
    "    start_time = time()\n",
    "    model.fit(X,y)\n",
    "    times[name] = time() - start_time\n",
    "\n",
    "print times"
   ]
  },
  {
   "cell_type": "code",
   "execution_count": 84,
   "metadata": {},
   "outputs": [
    {
     "name": "stdout",
     "output_type": "stream",
     "text": [
      "Picked 1010 images of digit 3 \n",
      "and 1028 images of digit 7\n"
     ]
    }
   ],
   "source": [
    "# Load test data\n",
    "test_images, test_labels = load_mnist(dataset=\"testing\")\n",
    "test_images_3 = test_images[test_labels==3]\n",
    "test_images_7 = test_images[test_labels==7]\n",
    "print \"Picked {} images of digit 3 \\nand {} images of digit 7\".format(len(test_images_3), len(test_images_7))\n",
    "test_data = zip(test_images_7, [1]*len(test_images_7))+zip(test_images_3, [0]*len(test_images_3))\n",
    "shuffle(test_data)\n",
    "test_X, test_y = zip(*test_data)\n",
    "test_X = np.array(test_X).reshape(len(test_y),28*28)"
   ]
  },
  {
   "cell_type": "code",
   "execution_count": 85,
   "metadata": {},
   "outputs": [],
   "source": [
    "# Measure error rates\n",
    "error_rates = {}\n",
    "for name, model in kernels.items():\n",
    "    error_rates[name] = 1 - (model.predict(test_X)==test_y).sum()/float(len(test_y))"
   ]
  },
  {
   "cell_type": "code",
   "execution_count": 86,
   "metadata": {},
   "outputs": [
    {
     "data": {
      "text/plain": [
       "{'linear': 0.023552502453385693,\n",
       " 'poly': 0.0044160942100097689,\n",
       " 'rbf': 0.49558390578999023}"
      ]
     },
     "execution_count": 86,
     "metadata": {},
     "output_type": "execute_result"
    }
   ],
   "source": [
    "error_rates"
   ]
  },
  {
   "cell_type": "markdown",
   "metadata": {},
   "source": [
    "It is interesting to observe that although RBF kernel takes the longest training time, its performance is the worst. This might be because the RBF kernel has high degress of freedom in its transformed topology and therefore likely to overfit. Of course, since I only used the default RBF hyperparameters, there is still possibilities that RBF could potentially work better with different regularization and (lower) gamma parameters.\n",
    "\n",
    "Since our data is very high dimensional (784), using non-linear kernels can lead to the slow down of training process and also potential overfitting problems. (I don't know if this is correct at all, but) I suspect that first using dimensional reduction (to remove redundancy) and then applying non-linear SVM might produce better results."
   ]
  }
 ],
 "metadata": {
  "kernelspec": {
   "display_name": "Python 2",
   "language": "python",
   "name": "python2"
  },
  "language_info": {
   "codemirror_mode": {
    "name": "ipython",
    "version": 2
   },
   "file_extension": ".py",
   "mimetype": "text/x-python",
   "name": "python",
   "nbconvert_exporter": "python",
   "pygments_lexer": "ipython2",
   "version": "2.7.14"
  }
 },
 "nbformat": 4,
 "nbformat_minor": 2
}
