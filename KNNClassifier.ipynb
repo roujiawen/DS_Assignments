{
 "cells": [
  {
   "cell_type": "markdown",
   "metadata": {},
   "source": [
    "# MNIST"
   ]
  },
  {
   "cell_type": "markdown",
   "metadata": {},
   "source": [
    "# Load digits and plot examples"
   ]
  },
  {
   "cell_type": "code",
   "execution_count": 9,
   "metadata": {},
   "outputs": [
    {
     "data": {
      "image/png": "[encoded data removed]",
      "text/plain": [
       "<matplotlib.figure.Figure at 0x108dbb7d0>"
      ]
     },
     "metadata": {},
     "output_type": "display_data"
    }
   ],
   "source": [
    "%matplotlib inline\n",
    "from sklearn.datasets import load_digits\n",
    "import matplotlib.pyplot as plt \n",
    "digits = load_digits()\n",
    "plt.set_cmap('gray_r')\n",
    "for i in range(10):\n",
    "    plt.subplot(2,5,i+1)\n",
    "    plt.imshow(digits.images[i]) \n",
    "    plt.axis(\"off\")\n",
    "plt.show()"
   ]
  },
  {
   "cell_type": "markdown",
   "metadata": {
    "collapsed": true
   },
   "source": [
    "# K-nearest neighbor classifier"
   ]
  },
  {
   "cell_type": "code",
   "execution_count": 10,
   "metadata": {},
   "outputs": [],
   "source": [
    "from sklearn.neighbors import KNeighborsClassifier\n",
    "from sklearn.model_selection import KFold\n",
    "import numpy as np\n",
    "from random import shuffle\n",
    "\n",
    "def predict_digits(digit1, digit2, k, n_splits=5):\n",
    "    # Get data for digit1 and digit2\n",
    "    data1 = [(x,0) for x, y in zip(digits.data, digits.target)\n",
    "            if y == digit1]\n",
    "    data2 = [(x,1) for x, y in zip(digits.data, digits.target)\n",
    "            if y == digit2]\n",
    "\n",
    "    # Combine and shuffle\n",
    "    data = data1+data2\n",
    "    shuffle(data)\n",
    "    X, Y = zip(*data)\n",
    "    X = np.array(X)\n",
    "    Y = np.array(Y)\n",
    "\n",
    "    # K-fold cross validation\n",
    "    err_rate = []\n",
    "    kf = KFold(n_splits=n_splits)\n",
    "    for train_index, test_index in kf.split(X):\n",
    "        train_X = X[train_index]\n",
    "        train_Y = Y[train_index]\n",
    "        test_X = X[test_index]\n",
    "        test_Y = Y[test_index]\n",
    "\n",
    "        # Fit model\n",
    "        model = KNeighborsClassifier(k)\n",
    "        model.fit(train_X, train_Y)\n",
    "\n",
    "        # Predict\n",
    "        predicted = model.predict(test_X)\n",
    "        err_rate.append(1 - np.count_nonzero(test_Y == predicted) \n",
    "                        / float(len(test_Y)))\n",
    "    \n",
    "    return np.mean(err_rate)\n"
   ]
  },
  {
   "cell_type": "markdown",
   "metadata": {},
   "source": [
    "# Select the best K"
   ]
  },
  {
   "cell_type": "code",
   "execution_count": 15,
   "metadata": {},
   "outputs": [],
   "source": [
    "n_trials = 1000\n",
    "results = []\n",
    "for n_splits in [2,5,10]:\n",
    "    for k in range(1,20):\n",
    "        errs = []\n",
    "        for i in range(n_trials):\n",
    "            digit1, digit2 = np.random.choice(range(10), 2, replace=False)\n",
    "            errs.append(predict_digits(digit1, digit2, k, n_splits))\n",
    "        results.append([n_splits, k, np.mean(errs)])"
   ]
  },
  {
   "cell_type": "code",
   "execution_count": 16,
   "metadata": {},
   "outputs": [
    {
     "data": {
      "image/png": "[encoded data removed]",
      "text/plain": [
       "<matplotlib.figure.Figure at 0x10b78f490>"
      ]
     },
     "metadata": {},
     "output_type": "display_data"
    }
   ],
   "source": [
    "import pandas as pd\n",
    "from matplotlib.ticker import MaxNLocator\n",
    "results = pd.DataFrame(results, columns=[\"n_splits\",\"k\",\"err\"])\n",
    "ax = plt.figure().gca()\n",
    "ax.xaxis.set_major_locator(MaxNLocator(integer=True))\n",
    "for n_splits, group in results.groupby(\"n_splits\"):\n",
    "    k_values = group[\"k\"]\n",
    "    err_values = group[\"err\"]\n",
    "    plt.plot(k_values,err_values, label=\"{}-fold\".format(n_splits))\n",
    "plt.legend()\n",
    "plt.xlim(0,20)\n",
    "plt.xlabel(\"K in K-nearest Neighbors\")\n",
    "plt.ylabel(\"Error Rate\")\n",
    "plt.show()"
   ]
  },
  {
   "cell_type": "markdown",
   "metadata": {},
   "source": [
    "From the results above, we can see that K=1 seems to be the most optimal classifier.\n",
    "\n",
    "To select the best K, the program iterated through each value of K from 1 to 19, and performed 1000 trials every time. In each trial, two random digits are selected without replacement, and cross validation was used in calculating error rates (the training and testing sets are therefore different in each trial). I also tried different number of folds in the cross validation, and although the baseline for error rate was slightly different, we see that the optimal choice of K is independent of the choice of cross validation method.\n",
    "\n",
    "It is also interesting to observe a subtle pattern that an odd value of K performs better than an even value, at least when K is small. This is likely because an odd value of K eliminates the possibility of ties.\n"
   ]
  },
  {
   "cell_type": "markdown",
   "metadata": {},
   "source": [
    "# Classify 3 and 9"
   ]
  },
  {
   "cell_type": "code",
   "execution_count": 27,
   "metadata": {},
   "outputs": [
    {
     "name": "stdout",
     "output_type": "stream",
     "text": [
      "Error rate=0.011019367373\n"
     ]
    }
   ],
   "source": [
    "print \"Error rate={}\".format(predict_digits(3, 9, 1, n_splits=2))"
   ]
  }
 ],
 "metadata": {
  "kernelspec": {
   "display_name": "Python 2",
   "language": "python",
   "name": "python2"
  },
  "language_info": {
   "codemirror_mode": {
    "name": "ipython",
    "version": 2
   },
   "file_extension": ".py",
   "mimetype": "text/x-python",
   "name": "python",
   "nbconvert_exporter": "python",
   "pygments_lexer": "ipython2",
   "version": "2.7.14"
  }
 },
 "nbformat": 4,
 "nbformat_minor": 1
}
