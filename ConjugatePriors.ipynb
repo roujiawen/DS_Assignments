{
 "cells": [
  {
   "cell_type": "markdown",
   "metadata": {},
   "source": [
    "# Call center data modeling\n",
    "\n",
    "## Loading the data"
   ]
  },
  {
   "cell_type": "code",
   "execution_count": 1,
   "metadata": {},
   "outputs": [],
   "source": [
    "import numpy as np\n",
    "from scipy import stats\n",
    "import matplotlib.pyplot as plt\n",
    "import pandas as pd"
   ]
  },
  {
   "cell_type": "code",
   "execution_count": 2,
   "metadata": {},
   "outputs": [],
   "source": [
    "# Load the data set containing durations between calls arriving at the call center.\n",
    "# All values are in minutes.\n",
    "waiting_times_day = np.loadtxt('call_center.csv')"
   ]
  },
  {
   "cell_type": "code",
   "execution_count": 3,
   "metadata": {},
   "outputs": [
    {
     "name": "stdout",
     "output_type": "stream",
     "text": [
      "Size of data set: 5891\n",
      "First 3 values in data set: [5.36 2.48 8.08]\n",
      "Sum of data set: 1442.145437310004\n"
     ]
    }
   ],
   "source": [
    "print('Size of data set:', len(waiting_times_day))\n",
    "print('First 3 values in data set:', waiting_times_day[:3])\n",
    "print('Sum of data set:', sum(waiting_times_day))"
   ]
  },
  {
   "cell_type": "markdown",
   "metadata": {},
   "source": [
    "## Data pre-processing"
   ]
  },
  {
   "cell_type": "code",
   "execution_count": 4,
   "metadata": {},
   "outputs": [
    {
     "name": "stdout",
     "output_type": "stream",
     "text": [
      "00:00-01:00 - 7 calls\n",
      "01:00-02:00 - 5 calls\n",
      "02:00-03:00 - 8 calls\n",
      "03:00-04:00 - 7 calls\n",
      "04:00-05:00 - 21 calls\n",
      "05:00-06:00 - 42 calls\n",
      "06:00-07:00 - 96 calls\n",
      "07:00-08:00 - 189 calls\n",
      "08:00-09:00 - 274 calls\n",
      "09:00-10:00 - 344 calls\n",
      "10:00-11:00 - 487 calls\n",
      "11:00-12:00 - 892 calls\n",
      "12:00-13:00 - 869 calls\n",
      "13:00-14:00 - 401 calls\n",
      "14:00-15:00 - 206 calls\n",
      "15:00-16:00 - 169 calls\n",
      "16:00-17:00 - 261 calls\n",
      "17:00-18:00 - 430 calls\n",
      "18:00-19:00 - 579 calls\n",
      "19:00-20:00 - 383 calls\n",
      "20:00-21:00 - 136 calls\n",
      "21:00-22:00 - 45 calls\n",
      "22:00-23:00 - 28 calls\n",
      "23:00-24:00 - 12 calls\n"
     ]
    }
   ],
   "source": [
    "# Split the data into 24 separate series, one for each hour of the day\n",
    "current_time = 0\n",
    "waiting_times_per_hour = [[] for _ in range(24)]  # Make 24 empty lists, one per hour\n",
    "for t in waiting_times_day:\n",
    "    current_hour = int(current_time // 60)\n",
    "    current_time += t\n",
    "    waiting_times_per_hour[current_hour].append(t)\n",
    "\n",
    "for hour, waiting_times_hour in enumerate(waiting_times_per_hour):\n",
    "    print('%02i:00-%02i:00 - %i calls' % (hour, hour + 1, len(waiting_times_hour)))"
   ]
  },
  {
   "cell_type": "markdown",
   "metadata": {},
   "source": [
    "## Computing a 95% posterior confidence interval and posterior mean"
   ]
  },
  {
   "cell_type": "code",
   "execution_count": 5,
   "metadata": {},
   "outputs": [],
   "source": [
    "def get_posterior(data):\n",
    "    # Use a gamma distribution with parameters (1,0.25) as prior\n",
    "    prior_alpha = 1\n",
    "    prior_beta = 0.25\n",
    "    # Update using data and calculate posterior\n",
    "    posterior_alpha = prior_alpha + len(data)\n",
    "    posterior_beta = prior_beta + sum(data)\n",
    "    # Create posterior distribution using those parameters\n",
    "    posterior = stats.gamma(a=posterior_alpha, scale=1/posterior_beta)\n",
    "    return posterior\n",
    "\n",
    "def get_ci_and_mean(data):\n",
    "    # Call function to calculate posterior\n",
    "    posterior = get_posterior(data)\n",
    "    # Calculate confidence interval and mean\n",
    "    confidence_95 = (posterior.ppf(0.025), posterior.ppf(0.975))\n",
    "    mean = posterior.mean()\n",
    "    return confidence_95, mean\n",
    "\n",
    "# Call function for data in each hour\n",
    "list_of_stats = [get_ci_and_mean(each_hour) for each_hour in waiting_times_per_hour]\n",
    "# Unpack\n",
    "list_of_cis, list_of_means = zip(*list_of_stats)"
   ]
  },
  {
   "cell_type": "markdown",
   "metadata": {},
   "source": [
    "## Plotting results"
   ]
  },
  {
   "cell_type": "code",
   "execution_count": 6,
   "metadata": {},
   "outputs": [
    {
     "data": {
      "image/png": "[encoded data removed]",
      "text/plain": [
       "<Figure size 720x576 with 1 Axes>"
      ]
     },
     "metadata": {},
     "output_type": "display_data"
    }
   ],
   "source": [
    "# Format time labels\n",
    "X = ['%02i:00-%02i:00' % (hour, hour+1) for hour in range(24)]\n",
    "# Calculate errorbars\n",
    "list_of_ebars = np.array(list(zip(*list_of_cis)))\n",
    "list_of_ebars[0,:] = list_of_means - list_of_ebars[0,:]\n",
    "list_of_ebars[1,:] -= list_of_means\n",
    "# Plotting\n",
    "plt.figure(figsize=(10,8))\n",
    "plt.errorbar(X, list_of_means, list_of_ebars, fmt='ro')\n",
    "plt.xticks(rotation='vertical')\n",
    "plt.xlabel(\"Hour\")\n",
    "plt.ylabel(\"Call rate (per minute)\")\n",
    "plt.grid(True)\n",
    "plt.show()"
   ]
  },
  {
   "cell_type": "markdown",
   "metadata": {},
   "source": [
    "# Communicating results"
   ]
  },
  {
   "cell_type": "markdown",
   "metadata": {},
   "source": [
    "Generally, we see that incoming calls peak at around lunch hours centered around 12:00 and dinner hours centered around 18:30. During 11:00-13:00, you should be expecting around 15 calls per minute, and might get to as many as 16 and as few as 13. During the rest of the awake hours 7:00-21:00, you should be expecting between 2 and 11 calls per minute. During the rest of the day, we should be expecting at most 2 calls per minute. For more detailed information on each hour, you could look at the plot above. The red dot in each hour column represents the average number of calls that arrive per minute. The line represents uncertainty. We are 95% confident that the call rates lie within those regions.\n",
    "\n",
    "In addition, you could refer to the table below for predictions on the number of calls arriving at each hour:"
   ]
  },
  {
   "cell_type": "code",
   "execution_count": 7,
   "metadata": {},
   "outputs": [
    {
     "name": "stdout",
     "output_type": "stream",
     "text": [
      "             Average number of calls: Number of calls is most likely between:\n",
      "Hour                                                                         \n",
      "00:00-01:00                         8                                2 and 17\n",
      "01:00-02:00                         5                                1 and 13\n",
      "02:00-03:00                         8                                2 and 16\n",
      "03:00-04:00                        11                                3 and 22\n",
      "04:00-05:00                        22                               11 and 37\n",
      "05:00-06:00                        43                               26 and 62\n",
      "06:00-07:00                        97                              71 and 126\n",
      "07:00-08:00                       189                             153 and 229\n",
      "08:00-09:00                       273                             228 and 319\n",
      "09:00-10:00                       345                             294 and 398\n",
      "10:00-11:00                       486                             426 and 548\n",
      "11:00-12:00                       891                             810 and 975\n",
      "12:00-13:00                       866                             786 and 949\n",
      "13:00-14:00                       397                             344 and 454\n",
      "14:00-15:00                       206                             168 and 247\n",
      "15:00-16:00                       170                             136 and 208\n",
      "16:00-17:00                       260                             216 and 306\n",
      "17:00-18:00                       432                             376 and 492\n",
      "18:00-19:00                       577                             512 and 646\n",
      "19:00-20:00                       382                             329 and 437\n",
      "20:00-21:00                       136                             106 and 170\n",
      "21:00-22:00                        42                               26 and 60\n",
      "22:00-23:00                        28                               15 and 43\n",
      "23:00-24:00                        15                                5 and 27\n"
     ]
    }
   ],
   "source": [
    "# Construct dataframe for table display\n",
    "df = {\"Average number of calls:\": np.zeros(24, dtype=int),\n",
    "     \"Number of calls is most likely between:\": []}\n",
    "# Sampling rate parameter from posterior, then sample data from likelihood\n",
    "for hour in range(24):\n",
    "    posterior = get_posterior(waiting_times_per_hour[hour])\n",
    "    n = 100000\n",
    "    samples = stats.poisson.rvs(posterior.rvs(size=n)*60)\n",
    "    df[\"Average number of calls:\"][hour] = round(samples.mean())\n",
    "    df[\"Number of calls is most likely between:\"].append(\"%i and %i\" %\n",
    "            (np.percentile(samples,2.5), np.percentile(samples,97.5)))\n",
    "# Display\n",
    "df = pd.DataFrame(df, index=X)\n",
    "df.index.name = \"Hour\"\n",
    "print(df)"
   ]
  },
  {
   "cell_type": "markdown",
   "metadata": {},
   "source": [
    "# Stretch goal\n",
    "\n",
    "## Reparametrizing normal distribution\n",
    "PDF of the normal distribution parametrized by mean and variance is expressed as\n",
    "\n",
    "$$p^{(\\mu, \\sigma^2)} = \\frac{1}{\\sqrt{2\\pi\\sigma^2}} e^{-\\frac{(x-\\mu)^2}{2\\sigma^2}}$$\n",
    "\n",
    "Substituting $\\sigma^2=\\frac{1}{\\tau}$, we can obtain the PDF parametrized by mean and precision:\n",
    "\n",
    "$$\n",
    "p^{(\\mu, \\tau)} = \\frac{1}{\\sqrt{2\\pi/\\tau}} e^{-\\frac{\\tau}{2}(x-\\mu)^2}\n",
    "=\\sqrt{\\frac{\\tau}{2\\pi}} e^{-\\frac{\\tau}{2}(x-\\mu)^2}\n",
    "$$\n",
    "\n",
    "## Change of variable in normal-inverse-gamma distribution \n",
    "PDF for normal-inverse-gamma distribution is\n",
    "\n",
    "$$p_{\\sigma^2}(\\sigma^2) = \\frac{\\sqrt{\\lambda}}{\\sqrt{2\\pi\\sigma^2}} \\frac{\\beta^{\\alpha}}{\\Gamma(\\alpha)} \\left(\\frac{1}{\\sigma^2}\\right)^{\\alpha+1} e^{-\\frac{2\\beta+\\lambda(x-\\mu)^2}{2\\sigma^2}}$$\n",
    "\n",
    "In this task, we are changing the variable of the probability distribution rather than substituting a parameter and therefore cannot do simple subsitution. \n",
    "\n",
    "We know that for a PDF $p$, the value of the function $p(x)$ only gives us the probability density, whereas $p(x) dx$ gives us the actualy probability that the outcome lies at the infinitestimal region between $x$ and $x+dx$. If we want to change the variable in a distribution, we need to keep the probabilities invariant and not densities. Using mathematical notations, this must hold:\n",
    "\n",
    "$$\n",
    "\\left|p_x(x) dx \\right| = \\left|p_y(y) dy\\right|\n",
    "$$\n",
    "\n",
    "where taking the absolute value is necessary because x and y might be inversely related. Applying the above equation and substituting $\\sigma^2=\\frac{1}{\\tau}$ and $\\frac{d\\sigma^2}{d\\tau} = -\\tau^{-2}$, we have\n",
    "\n",
    "$$\n",
    "\\begin{aligned}\n",
    "p_{\\tau}(\\tau) &= \\left|\\frac{d\\sigma^2}{d\\tau}\\right| \\cdot p_{\\sigma^2}(\\frac{1}{\\tau})\\\\\n",
    "&= \\tau^{-2} \\cdot \\frac{\\sqrt{\\lambda \\tau}}{\\sqrt{2\\pi}}  \\frac{\\beta^{\\alpha}}{\\Gamma(\\alpha)} \\tau^{\\alpha+1} e^{-\\frac{\\tau}{2}\\left(2\\beta+\\lambda(x-\\mu)^2\\right)}\\\\\n",
    "&= \\frac{\\beta^{\\alpha} \\sqrt{\\lambda}}{\\Gamma(\\alpha)\\sqrt{2\\pi}} \\tau^{\\alpha-\\frac{1}{2}} e^{-\\beta\\tau} e^{-\\frac{\\lambda\\tau}{2} (x-\\mu)^2}\n",
    "\\end{aligned}\n",
    "$$\n",
    "\n",
    "The last expression matches the PDF of normal-gamma distribution.\n"
   ]
  }
 ],
 "metadata": {
  "kernelspec": {
   "display_name": "Python 3",
   "language": "python",
   "name": "python3"
  },
  "language_info": {
   "codemirror_mode": {
    "name": "ipython",
    "version": 3
   },
   "file_extension": ".py",
   "mimetype": "text/x-python",
   "name": "python",
   "nbconvert_exporter": "python",
   "pygments_lexer": "ipython3",
   "version": "3.6.5"
  }
 },
 "nbformat": 4,
 "nbformat_minor": 2
}
